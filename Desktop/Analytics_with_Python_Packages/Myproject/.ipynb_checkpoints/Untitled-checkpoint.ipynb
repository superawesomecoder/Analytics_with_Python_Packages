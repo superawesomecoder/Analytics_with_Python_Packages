{
 "cells": [
  {
   "cell_type": "code",
   "execution_count": 2,
   "metadata": {
    "collapsed": true
   },
   "outputs": [],
   "source": [
    "import numpy as np\n",
    "import pandas as pd\n",
    "\n",
    "import matplotlib.pyplot as plt\n",
    "from mpl_toolkits.mplot3d import Axes3D\n",
    "import random"
   ]
  },
  {
   "cell_type": "code",
   "execution_count": 3,
   "metadata": {
    "collapsed": true
   },
   "outputs": [],
   "source": [
    "file_name = 'loan.csv'"
   ]
  },
  {
   "cell_type": "code",
   "execution_count": 4,
   "metadata": {
    "collapsed": true
   },
   "outputs": [],
   "source": [
    "df= pd.read_csv('loan.csv', low_memory = False)"
   ]
  },
  {
   "cell_type": "code",
   "execution_count": 5,
   "metadata": {
    "collapsed": true
   },
   "outputs": [],
   "source": [
    "df = df.apply( lambda x: pd.to_numeric(x, errors='ignore') )"
   ]
  },
  {
   "cell_type": "code",
   "execution_count": 6,
   "metadata": {
    "collapsed": false
   },
   "outputs": [
    {
     "data": {
      "text/plain": [
       "(887379, 74)"
      ]
     },
     "execution_count": 6,
     "metadata": {},
     "output_type": "execute_result"
    }
   ],
   "source": [
    "df.shape"
   ]
  },
  {
   "cell_type": "code",
   "execution_count": 9,
   "metadata": {
    "collapsed": false
   },
   "outputs": [
    {
     "data": {
      "text/plain": [
       "Index(['id', 'member_id', 'loan_amnt', 'funded_amnt', 'funded_amnt_inv',\n",
       "       'term', 'int_rate', 'installment', 'grade', 'sub_grade', 'emp_title',\n",
       "       'emp_length', 'home_ownership', 'annual_inc', 'verification_status',\n",
       "       'issue_d', 'loan_status', 'pymnt_plan', 'url', 'desc', 'purpose',\n",
       "       'title', 'zip_code', 'addr_state', 'dti', 'delinq_2yrs',\n",
       "       'earliest_cr_line', 'inq_last_6mths', 'mths_since_last_delinq',\n",
       "       'mths_since_last_record', 'open_acc', 'pub_rec', 'revol_bal',\n",
       "       'revol_util', 'total_acc', 'initial_list_status', 'out_prncp',\n",
       "       'out_prncp_inv', 'total_pymnt', 'total_pymnt_inv', 'total_rec_prncp',\n",
       "       'total_rec_int', 'total_rec_late_fee', 'recoveries',\n",
       "       'collection_recovery_fee', 'last_pymnt_d', 'last_pymnt_amnt',\n",
       "       'next_pymnt_d', 'last_credit_pull_d', 'collections_12_mths_ex_med',\n",
       "       'mths_since_last_major_derog', 'policy_code', 'application_type',\n",
       "       'annual_inc_joint', 'dti_joint', 'verification_status_joint',\n",
       "       'acc_now_delinq', 'tot_coll_amt', 'tot_cur_bal', 'open_acc_6m',\n",
       "       'open_il_6m', 'open_il_12m', 'open_il_24m', 'mths_since_rcnt_il',\n",
       "       'total_bal_il', 'il_util', 'open_rv_12m', 'open_rv_24m', 'max_bal_bc',\n",
       "       'all_util', 'total_rev_hi_lim', 'inq_fi', 'total_cu_tl',\n",
       "       'inq_last_12m'],\n",
       "      dtype='object')"
      ]
     },
     "execution_count": 9,
     "metadata": {},
     "output_type": "execute_result"
    }
   ],
   "source": [
    "df.columns\n",
    "\n"
   ]
  },
  {
   "cell_type": "code",
   "execution_count": 10,
   "metadata": {
    "collapsed": false
   },
   "outputs": [
    {
     "data": {
      "text/plain": [
       "<bound method IndexOpsMixin.unique of 0         0.0\n",
       "1         0.0\n",
       "2         0.0\n",
       "3         0.0\n",
       "4         0.0\n",
       "5         0.0\n",
       "6         0.0\n",
       "7         0.0\n",
       "8         0.0\n",
       "9         0.0\n",
       "10        0.0\n",
       "11        0.0\n",
       "12        0.0\n",
       "13        0.0\n",
       "14        0.0\n",
       "15        0.0\n",
       "16        0.0\n",
       "17        0.0\n",
       "18        0.0\n",
       "19        0.0\n",
       "20        0.0\n",
       "21        0.0\n",
       "22        0.0\n",
       "23        0.0\n",
       "24        0.0\n",
       "25        0.0\n",
       "26        0.0\n",
       "27        0.0\n",
       "28        0.0\n",
       "29        0.0\n",
       "         ... \n",
       "887349    0.0\n",
       "887350    0.0\n",
       "887351    0.0\n",
       "887352    0.0\n",
       "887353    0.0\n",
       "887354    0.0\n",
       "887355    0.0\n",
       "887356    0.0\n",
       "887357    0.0\n",
       "887358    0.0\n",
       "887359    0.0\n",
       "887360    0.0\n",
       "887361    0.0\n",
       "887362    0.0\n",
       "887363    0.0\n",
       "887364    0.0\n",
       "887365    0.0\n",
       "887366    0.0\n",
       "887367    0.0\n",
       "887368    0.0\n",
       "887369    0.0\n",
       "887370    0.0\n",
       "887371    0.0\n",
       "887372    0.0\n",
       "887373    0.0\n",
       "887374    0.0\n",
       "887375    0.0\n",
       "887376    0.0\n",
       "887377    0.0\n",
       "887378    0.0\n",
       "Name: acc_now_delinq, dtype: float64>"
      ]
     },
     "execution_count": 10,
     "metadata": {},
     "output_type": "execute_result"
    }
   ],
   "source": [
    "df.acc_now_delinq.unique"
   ]
  },
  {
   "cell_type": "code",
   "execution_count": 11,
   "metadata": {
    "collapsed": false
   },
   "outputs": [
    {
     "data": {
      "text/plain": [
       "<bound method IndexOpsMixin.unique of 0          5000.0\n",
       "1          2500.0\n",
       "2          2400.0\n",
       "3         10000.0\n",
       "4          3000.0\n",
       "5          5000.0\n",
       "6          7000.0\n",
       "7          3000.0\n",
       "8          5600.0\n",
       "9          5375.0\n",
       "10         6500.0\n",
       "11        12000.0\n",
       "12         9000.0\n",
       "13         3000.0\n",
       "14        10000.0\n",
       "15         1000.0\n",
       "16        10000.0\n",
       "17         3600.0\n",
       "18         6000.0\n",
       "19         9200.0\n",
       "20        20250.0\n",
       "21        21000.0\n",
       "22        10000.0\n",
       "23        10000.0\n",
       "24         6000.0\n",
       "25        15000.0\n",
       "26        15000.0\n",
       "27         5000.0\n",
       "28         4000.0\n",
       "29         8500.0\n",
       "           ...   \n",
       "887349    20000.0\n",
       "887350    10300.0\n",
       "887351     4200.0\n",
       "887352    15000.0\n",
       "887353    15000.0\n",
       "887354     6000.0\n",
       "887355    26950.0\n",
       "887356    23000.0\n",
       "887357    18700.0\n",
       "887358    25000.0\n",
       "887359    25000.0\n",
       "887360    26500.0\n",
       "887361    21000.0\n",
       "887362     8000.0\n",
       "887363    12000.0\n",
       "887364    10775.0\n",
       "887365     7000.0\n",
       "887366     6225.0\n",
       "887367    10000.0\n",
       "887368    13150.0\n",
       "887369     4000.0\n",
       "887370     7500.0\n",
       "887371    10850.0\n",
       "887372    12000.0\n",
       "887373    11575.0\n",
       "887374    10000.0\n",
       "887375    24000.0\n",
       "887376    13000.0\n",
       "887377    12000.0\n",
       "887378    20000.0\n",
       "Name: funded_amnt, dtype: float64>"
      ]
     },
     "execution_count": 11,
     "metadata": {},
     "output_type": "execute_result"
    }
   ],
   "source": [
    "df.funded_amnt.unique"
   ]
  },
  {
   "cell_type": "code",
   "execution_count": 12,
   "metadata": {
    "collapsed": false
   },
   "outputs": [
    {
     "data": {
      "text/plain": [
       "<bound method IndexOpsMixin.unique of 0          24000.00\n",
       "1          30000.00\n",
       "2          12252.00\n",
       "3          49200.00\n",
       "4          80000.00\n",
       "5          36000.00\n",
       "6          47004.00\n",
       "7          48000.00\n",
       "8          40000.00\n",
       "9          15000.00\n",
       "10         72000.00\n",
       "11         75000.00\n",
       "12         30000.00\n",
       "13         15000.00\n",
       "14        100000.00\n",
       "15         28000.00\n",
       "16         42000.00\n",
       "17        110000.00\n",
       "18         84000.00\n",
       "19         77385.19\n",
       "20         43370.00\n",
       "21        105000.00\n",
       "22         50000.00\n",
       "23         50000.00\n",
       "24         76000.00\n",
       "25         92000.00\n",
       "26         60000.00\n",
       "27         50004.00\n",
       "28        106000.00\n",
       "29         25000.00\n",
       "            ...    \n",
       "887349     72000.00\n",
       "887350     93600.00\n",
       "887351     48000.00\n",
       "887352     70000.00\n",
       "887353     57000.00\n",
       "887354     90000.00\n",
       "887355     54000.00\n",
       "887356     50000.00\n",
       "887357     52000.00\n",
       "887358    103000.00\n",
       "887359     55000.00\n",
       "887360     92000.00\n",
       "887361     65000.00\n",
       "887362     50000.00\n",
       "887363     40000.00\n",
       "887364     54000.00\n",
       "887365     57000.00\n",
       "887366     27000.00\n",
       "887367     75000.00\n",
       "887368     30000.00\n",
       "887369     50000.00\n",
       "887370     40000.00\n",
       "887371     32000.00\n",
       "887372     63000.00\n",
       "887373     25400.00\n",
       "887374     31000.00\n",
       "887375     79000.00\n",
       "887376     35000.00\n",
       "887377     64400.00\n",
       "887378    100000.00\n",
       "Name: annual_inc, dtype: float64>"
      ]
     },
     "execution_count": 12,
     "metadata": {},
     "output_type": "execute_result"
    }
   ],
   "source": [
    "df.annual_inc.unique"
   ]
  },
  {
   "cell_type": "code",
   "execution_count": 15,
   "metadata": {
    "collapsed": false
   },
   "outputs": [
    {
     "data": {
      "text/html": [
       "<div>\n",
       "<table border=\"1\" class=\"dataframe\">\n",
       "  <thead>\n",
       "    <tr style=\"text-align: right;\">\n",
       "      <th></th>\n",
       "    </tr>\n",
       "    <tr>\n",
       "      <th>addr_state</th>\n",
       "    </tr>\n",
       "  </thead>\n",
       "  <tbody>\n",
       "    <tr>\n",
       "      <th>AK</th>\n",
       "    </tr>\n",
       "    <tr>\n",
       "      <th>AL</th>\n",
       "    </tr>\n",
       "    <tr>\n",
       "      <th>AR</th>\n",
       "    </tr>\n",
       "    <tr>\n",
       "      <th>AZ</th>\n",
       "    </tr>\n",
       "    <tr>\n",
       "      <th>CA</th>\n",
       "    </tr>\n",
       "    <tr>\n",
       "      <th>CO</th>\n",
       "    </tr>\n",
       "    <tr>\n",
       "      <th>CT</th>\n",
       "    </tr>\n",
       "    <tr>\n",
       "      <th>DC</th>\n",
       "    </tr>\n",
       "    <tr>\n",
       "      <th>DE</th>\n",
       "    </tr>\n",
       "    <tr>\n",
       "      <th>FL</th>\n",
       "    </tr>\n",
       "    <tr>\n",
       "      <th>GA</th>\n",
       "    </tr>\n",
       "    <tr>\n",
       "      <th>HI</th>\n",
       "    </tr>\n",
       "    <tr>\n",
       "      <th>IA</th>\n",
       "    </tr>\n",
       "    <tr>\n",
       "      <th>ID</th>\n",
       "    </tr>\n",
       "    <tr>\n",
       "      <th>IL</th>\n",
       "    </tr>\n",
       "    <tr>\n",
       "      <th>IN</th>\n",
       "    </tr>\n",
       "    <tr>\n",
       "      <th>KS</th>\n",
       "    </tr>\n",
       "    <tr>\n",
       "      <th>KY</th>\n",
       "    </tr>\n",
       "    <tr>\n",
       "      <th>LA</th>\n",
       "    </tr>\n",
       "    <tr>\n",
       "      <th>MA</th>\n",
       "    </tr>\n",
       "    <tr>\n",
       "      <th>MD</th>\n",
       "    </tr>\n",
       "    <tr>\n",
       "      <th>ME</th>\n",
       "    </tr>\n",
       "    <tr>\n",
       "      <th>MI</th>\n",
       "    </tr>\n",
       "    <tr>\n",
       "      <th>MN</th>\n",
       "    </tr>\n",
       "    <tr>\n",
       "      <th>MO</th>\n",
       "    </tr>\n",
       "    <tr>\n",
       "      <th>MS</th>\n",
       "    </tr>\n",
       "    <tr>\n",
       "      <th>MT</th>\n",
       "    </tr>\n",
       "    <tr>\n",
       "      <th>NC</th>\n",
       "    </tr>\n",
       "    <tr>\n",
       "      <th>ND</th>\n",
       "    </tr>\n",
       "    <tr>\n",
       "      <th>NE</th>\n",
       "    </tr>\n",
       "    <tr>\n",
       "      <th>NH</th>\n",
       "    </tr>\n",
       "    <tr>\n",
       "      <th>NJ</th>\n",
       "    </tr>\n",
       "    <tr>\n",
       "      <th>NM</th>\n",
       "    </tr>\n",
       "    <tr>\n",
       "      <th>NV</th>\n",
       "    </tr>\n",
       "    <tr>\n",
       "      <th>NY</th>\n",
       "    </tr>\n",
       "    <tr>\n",
       "      <th>OH</th>\n",
       "    </tr>\n",
       "    <tr>\n",
       "      <th>OK</th>\n",
       "    </tr>\n",
       "    <tr>\n",
       "      <th>OR</th>\n",
       "    </tr>\n",
       "    <tr>\n",
       "      <th>PA</th>\n",
       "    </tr>\n",
       "    <tr>\n",
       "      <th>RI</th>\n",
       "    </tr>\n",
       "    <tr>\n",
       "      <th>SC</th>\n",
       "    </tr>\n",
       "    <tr>\n",
       "      <th>SD</th>\n",
       "    </tr>\n",
       "    <tr>\n",
       "      <th>TN</th>\n",
       "    </tr>\n",
       "    <tr>\n",
       "      <th>TX</th>\n",
       "    </tr>\n",
       "    <tr>\n",
       "      <th>UT</th>\n",
       "    </tr>\n",
       "    <tr>\n",
       "      <th>VA</th>\n",
       "    </tr>\n",
       "    <tr>\n",
       "      <th>VT</th>\n",
       "    </tr>\n",
       "    <tr>\n",
       "      <th>WA</th>\n",
       "    </tr>\n",
       "    <tr>\n",
       "      <th>WI</th>\n",
       "    </tr>\n",
       "    <tr>\n",
       "      <th>WV</th>\n",
       "    </tr>\n",
       "    <tr>\n",
       "      <th>WY</th>\n",
       "    </tr>\n",
       "  </tbody>\n",
       "</table>\n",
       "</div>"
      ],
      "text/plain": [
       "Empty DataFrame\n",
       "Columns: []\n",
       "Index: [AK, AL, AR, AZ, CA, CO, CT, DC, DE, FL, GA, HI, IA, ID, IL, IN, KS, KY, LA, MA, MD, ME, MI, MN, MO, MS, MT, NC, ND, NE, NH, NJ, NM, NV, NY, OH, OK, OR, PA, RI, SC, SD, TN, TX, UT, VA, VT, WA, WI, WV, WY]"
      ]
     },
     "execution_count": 15,
     "metadata": {},
     "output_type": "execute_result"
    }
   ],
   "source": [
    "\n",
    "\n",
    "tmp = pd.pivot_table(df,index=[\"addr_state\"],\n",
    "               values=[\"Annual_inc\",\"funded_amnt\"],\n",
    "               aggfunc=np.sum)\n",
    "\n",
    "col1 = tmp['Annual_inc']\n",
    "col2 = tmp['funded_amnt']\n",
    "\n",
    "tmp['addr_state'] = col1,col2\n",
    "\n",
    "tmp"
   ]
  },
  {
   "cell_type": "code",
   "execution_count": null,
   "metadata": {
    "collapsed": true
   },
   "outputs": [],
   "source": []
  }
 ],
 "metadata": {
  "kernelspec": {
   "display_name": "Python 3",
   "language": "python",
   "name": "python3"
  },
  "language_info": {
   "codemirror_mode": {
    "name": "ipython",
    "version": 3
   },
   "file_extension": ".py",
   "mimetype": "text/x-python",
   "name": "python",
   "nbconvert_exporter": "python",
   "pygments_lexer": "ipython3",
   "version": "3.6.0"
  }
 },
 "nbformat": 4,
 "nbformat_minor": 2
}
