{
 "cells": [
  {
   "cell_type": "markdown",
   "metadata": {},
   "source": [
    "1- Plan the tasks you want to achieve, list and import all needed modules and packages"
   ]
  },
  {
   "cell_type": "code",
   "execution_count": 1,
   "metadata": {
    "collapsed": true
   },
   "outputs": [],
   "source": [
    "import pandas as pd\n",
    "import pandas_datareader.data as web\n",
    "import numpy as np\n",
    "import matplotlib.pyplot as plt\n",
    "import random\n",
    "from sklearn.linear_model import LinearRegression\n",
    "%matplotlib inline\n"
   ]
  },
  {
   "cell_type": "markdown",
   "metadata": {},
   "source": [
    "2- Upload the file and basic information in preparation for the main analysis"
   ]
  },
  {
   "cell_type": "code",
   "execution_count": 2,
   "metadata": {
    "collapsed": true
   },
   "outputs": [],
   "source": [
    "file_name = 'loan.csv'"
   ]
  },
  {
   "cell_type": "code",
   "execution_count": 3,
   "metadata": {
    "collapsed": false
   },
   "outputs": [
    {
     "data": {
      "text/html": [
       "<div>\n",
       "<table border=\"1\" class=\"dataframe\">\n",
       "  <thead>\n",
       "    <tr style=\"text-align: right;\">\n",
       "      <th></th>\n",
       "      <th>id</th>\n",
       "      <th>member_id</th>\n",
       "      <th>loan_amnt</th>\n",
       "      <th>funded_amnt</th>\n",
       "      <th>funded_amnt_inv</th>\n",
       "      <th>term</th>\n",
       "      <th>int_rate</th>\n",
       "      <th>installment</th>\n",
       "      <th>grade</th>\n",
       "      <th>sub_grade</th>\n",
       "      <th>...</th>\n",
       "      <th>total_bal_il</th>\n",
       "      <th>il_util</th>\n",
       "      <th>open_rv_12m</th>\n",
       "      <th>open_rv_24m</th>\n",
       "      <th>max_bal_bc</th>\n",
       "      <th>all_util</th>\n",
       "      <th>total_rev_hi_lim</th>\n",
       "      <th>inq_fi</th>\n",
       "      <th>total_cu_tl</th>\n",
       "      <th>inq_last_12m</th>\n",
       "    </tr>\n",
       "  </thead>\n",
       "  <tbody>\n",
       "    <tr>\n",
       "      <th>0</th>\n",
       "      <td>1077501</td>\n",
       "      <td>1296599</td>\n",
       "      <td>5000.0</td>\n",
       "      <td>5000.0</td>\n",
       "      <td>4975.0</td>\n",
       "      <td>36 months</td>\n",
       "      <td>10.65</td>\n",
       "      <td>162.87</td>\n",
       "      <td>B</td>\n",
       "      <td>B2</td>\n",
       "      <td>...</td>\n",
       "      <td>NaN</td>\n",
       "      <td>NaN</td>\n",
       "      <td>NaN</td>\n",
       "      <td>NaN</td>\n",
       "      <td>NaN</td>\n",
       "      <td>NaN</td>\n",
       "      <td>NaN</td>\n",
       "      <td>NaN</td>\n",
       "      <td>NaN</td>\n",
       "      <td>NaN</td>\n",
       "    </tr>\n",
       "    <tr>\n",
       "      <th>1</th>\n",
       "      <td>1077430</td>\n",
       "      <td>1314167</td>\n",
       "      <td>2500.0</td>\n",
       "      <td>2500.0</td>\n",
       "      <td>2500.0</td>\n",
       "      <td>60 months</td>\n",
       "      <td>15.27</td>\n",
       "      <td>59.83</td>\n",
       "      <td>C</td>\n",
       "      <td>C4</td>\n",
       "      <td>...</td>\n",
       "      <td>NaN</td>\n",
       "      <td>NaN</td>\n",
       "      <td>NaN</td>\n",
       "      <td>NaN</td>\n",
       "      <td>NaN</td>\n",
       "      <td>NaN</td>\n",
       "      <td>NaN</td>\n",
       "      <td>NaN</td>\n",
       "      <td>NaN</td>\n",
       "      <td>NaN</td>\n",
       "    </tr>\n",
       "    <tr>\n",
       "      <th>2</th>\n",
       "      <td>1077175</td>\n",
       "      <td>1313524</td>\n",
       "      <td>2400.0</td>\n",
       "      <td>2400.0</td>\n",
       "      <td>2400.0</td>\n",
       "      <td>36 months</td>\n",
       "      <td>15.96</td>\n",
       "      <td>84.33</td>\n",
       "      <td>C</td>\n",
       "      <td>C5</td>\n",
       "      <td>...</td>\n",
       "      <td>NaN</td>\n",
       "      <td>NaN</td>\n",
       "      <td>NaN</td>\n",
       "      <td>NaN</td>\n",
       "      <td>NaN</td>\n",
       "      <td>NaN</td>\n",
       "      <td>NaN</td>\n",
       "      <td>NaN</td>\n",
       "      <td>NaN</td>\n",
       "      <td>NaN</td>\n",
       "    </tr>\n",
       "    <tr>\n",
       "      <th>3</th>\n",
       "      <td>1076863</td>\n",
       "      <td>1277178</td>\n",
       "      <td>10000.0</td>\n",
       "      <td>10000.0</td>\n",
       "      <td>10000.0</td>\n",
       "      <td>36 months</td>\n",
       "      <td>13.49</td>\n",
       "      <td>339.31</td>\n",
       "      <td>C</td>\n",
       "      <td>C1</td>\n",
       "      <td>...</td>\n",
       "      <td>NaN</td>\n",
       "      <td>NaN</td>\n",
       "      <td>NaN</td>\n",
       "      <td>NaN</td>\n",
       "      <td>NaN</td>\n",
       "      <td>NaN</td>\n",
       "      <td>NaN</td>\n",
       "      <td>NaN</td>\n",
       "      <td>NaN</td>\n",
       "      <td>NaN</td>\n",
       "    </tr>\n",
       "    <tr>\n",
       "      <th>4</th>\n",
       "      <td>1075358</td>\n",
       "      <td>1311748</td>\n",
       "      <td>3000.0</td>\n",
       "      <td>3000.0</td>\n",
       "      <td>3000.0</td>\n",
       "      <td>60 months</td>\n",
       "      <td>12.69</td>\n",
       "      <td>67.79</td>\n",
       "      <td>B</td>\n",
       "      <td>B5</td>\n",
       "      <td>...</td>\n",
       "      <td>NaN</td>\n",
       "      <td>NaN</td>\n",
       "      <td>NaN</td>\n",
       "      <td>NaN</td>\n",
       "      <td>NaN</td>\n",
       "      <td>NaN</td>\n",
       "      <td>NaN</td>\n",
       "      <td>NaN</td>\n",
       "      <td>NaN</td>\n",
       "      <td>NaN</td>\n",
       "    </tr>\n",
       "  </tbody>\n",
       "</table>\n",
       "<p>5 rows × 74 columns</p>\n",
       "</div>"
      ],
      "text/plain": [
       "        id  member_id  loan_amnt  funded_amnt  funded_amnt_inv        term  \\\n",
       "0  1077501    1296599     5000.0       5000.0           4975.0   36 months   \n",
       "1  1077430    1314167     2500.0       2500.0           2500.0   60 months   \n",
       "2  1077175    1313524     2400.0       2400.0           2400.0   36 months   \n",
       "3  1076863    1277178    10000.0      10000.0          10000.0   36 months   \n",
       "4  1075358    1311748     3000.0       3000.0           3000.0   60 months   \n",
       "\n",
       "   int_rate  installment grade sub_grade     ...      total_bal_il il_util  \\\n",
       "0     10.65       162.87     B        B2     ...               NaN     NaN   \n",
       "1     15.27        59.83     C        C4     ...               NaN     NaN   \n",
       "2     15.96        84.33     C        C5     ...               NaN     NaN   \n",
       "3     13.49       339.31     C        C1     ...               NaN     NaN   \n",
       "4     12.69        67.79     B        B5     ...               NaN     NaN   \n",
       "\n",
       "  open_rv_12m  open_rv_24m max_bal_bc all_util total_rev_hi_lim inq_fi  \\\n",
       "0         NaN          NaN        NaN      NaN              NaN    NaN   \n",
       "1         NaN          NaN        NaN      NaN              NaN    NaN   \n",
       "2         NaN          NaN        NaN      NaN              NaN    NaN   \n",
       "3         NaN          NaN        NaN      NaN              NaN    NaN   \n",
       "4         NaN          NaN        NaN      NaN              NaN    NaN   \n",
       "\n",
       "  total_cu_tl inq_last_12m  \n",
       "0         NaN          NaN  \n",
       "1         NaN          NaN  \n",
       "2         NaN          NaN  \n",
       "3         NaN          NaN  \n",
       "4         NaN          NaN  \n",
       "\n",
       "[5 rows x 74 columns]"
      ]
     },
     "execution_count": 3,
     "metadata": {},
     "output_type": "execute_result"
    }
   ],
   "source": [
    "df= pd.read_csv('loan.csv', low_memory = False)\n",
    "df.head()"
   ]
  },
  {
   "cell_type": "markdown",
   "metadata": {},
   "source": [
    "3- Generate your training and testing data sets "
   ]
  },
  {
   "cell_type": "code",
   "execution_count": 4,
   "metadata": {
    "collapsed": false
   },
   "outputs": [],
   "source": [
    "#Shake the dataset well to spit out a few random samples as you go\n",
    "rows = df.index\n",
    "row_count = len(rows)\n",
    "random.shuffle(list(rows))\n",
    "\n",
    "df.reindex(rows)\n",
    "#Since this data set is relatively large, a 10% sample will sufice for each set\n",
    "training_data = df[row_count // 10:]\n",
    "testing_data = df[:row_count // 10]"
   ]
  },
  {
   "cell_type": "markdown",
   "metadata": {},
   "source": [
    "4- Check your data set parameters and pick relevant variables based on previous basic analysis and observations"
   ]
  },
  {
   "cell_type": "code",
   "execution_count": 5,
   "metadata": {
    "collapsed": false
   },
   "outputs": [
    {
     "data": {
      "text/plain": [
       "(88737, 74)"
      ]
     },
     "execution_count": 5,
     "metadata": {},
     "output_type": "execute_result"
    }
   ],
   "source": [
    "testing_data.shape"
   ]
  },
  {
   "cell_type": "code",
   "execution_count": 6,
   "metadata": {
    "collapsed": false
   },
   "outputs": [
    {
     "data": {
      "text/plain": [
       "(798642, 74)"
      ]
     },
     "execution_count": 6,
     "metadata": {},
     "output_type": "execute_result"
    }
   ],
   "source": [
    "training_data.shape"
   ]
  },
  {
   "cell_type": "code",
   "execution_count": 16,
   "metadata": {
    "collapsed": false
   },
   "outputs": [],
   "source": [
    "#I want to predict annual income to target\n",
    "df1 = testing_data[['annual_inc','funded_amnt','purpose']]"
   ]
  },
  {
   "cell_type": "code",
   "execution_count": 17,
   "metadata": {
    "collapsed": false
   },
   "outputs": [
    {
     "data": {
      "text/html": [
       "<div>\n",
       "<table border=\"1\" class=\"dataframe\">\n",
       "  <thead>\n",
       "    <tr style=\"text-align: right;\">\n",
       "      <th></th>\n",
       "      <th>annual_inc</th>\n",
       "      <th>funded_amnt</th>\n",
       "      <th>purpose</th>\n",
       "    </tr>\n",
       "  </thead>\n",
       "  <tbody>\n",
       "    <tr>\n",
       "      <th>0</th>\n",
       "      <td>24000.00</td>\n",
       "      <td>5000.0</td>\n",
       "      <td>credit_card</td>\n",
       "    </tr>\n",
       "    <tr>\n",
       "      <th>1</th>\n",
       "      <td>30000.00</td>\n",
       "      <td>2500.0</td>\n",
       "      <td>car</td>\n",
       "    </tr>\n",
       "    <tr>\n",
       "      <th>2</th>\n",
       "      <td>12252.00</td>\n",
       "      <td>2400.0</td>\n",
       "      <td>small_business</td>\n",
       "    </tr>\n",
       "    <tr>\n",
       "      <th>3</th>\n",
       "      <td>49200.00</td>\n",
       "      <td>10000.0</td>\n",
       "      <td>other</td>\n",
       "    </tr>\n",
       "    <tr>\n",
       "      <th>4</th>\n",
       "      <td>80000.00</td>\n",
       "      <td>3000.0</td>\n",
       "      <td>other</td>\n",
       "    </tr>\n",
       "    <tr>\n",
       "      <th>5</th>\n",
       "      <td>36000.00</td>\n",
       "      <td>5000.0</td>\n",
       "      <td>wedding</td>\n",
       "    </tr>\n",
       "    <tr>\n",
       "      <th>6</th>\n",
       "      <td>47004.00</td>\n",
       "      <td>7000.0</td>\n",
       "      <td>debt_consolidation</td>\n",
       "    </tr>\n",
       "    <tr>\n",
       "      <th>7</th>\n",
       "      <td>48000.00</td>\n",
       "      <td>3000.0</td>\n",
       "      <td>car</td>\n",
       "    </tr>\n",
       "    <tr>\n",
       "      <th>8</th>\n",
       "      <td>40000.00</td>\n",
       "      <td>5600.0</td>\n",
       "      <td>small_business</td>\n",
       "    </tr>\n",
       "    <tr>\n",
       "      <th>9</th>\n",
       "      <td>15000.00</td>\n",
       "      <td>5375.0</td>\n",
       "      <td>other</td>\n",
       "    </tr>\n",
       "    <tr>\n",
       "      <th>10</th>\n",
       "      <td>72000.00</td>\n",
       "      <td>6500.0</td>\n",
       "      <td>debt_consolidation</td>\n",
       "    </tr>\n",
       "    <tr>\n",
       "      <th>11</th>\n",
       "      <td>75000.00</td>\n",
       "      <td>12000.0</td>\n",
       "      <td>debt_consolidation</td>\n",
       "    </tr>\n",
       "    <tr>\n",
       "      <th>12</th>\n",
       "      <td>30000.00</td>\n",
       "      <td>9000.0</td>\n",
       "      <td>debt_consolidation</td>\n",
       "    </tr>\n",
       "    <tr>\n",
       "      <th>13</th>\n",
       "      <td>15000.00</td>\n",
       "      <td>3000.0</td>\n",
       "      <td>credit_card</td>\n",
       "    </tr>\n",
       "    <tr>\n",
       "      <th>14</th>\n",
       "      <td>100000.00</td>\n",
       "      <td>10000.0</td>\n",
       "      <td>other</td>\n",
       "    </tr>\n",
       "    <tr>\n",
       "      <th>15</th>\n",
       "      <td>28000.00</td>\n",
       "      <td>1000.0</td>\n",
       "      <td>debt_consolidation</td>\n",
       "    </tr>\n",
       "    <tr>\n",
       "      <th>16</th>\n",
       "      <td>42000.00</td>\n",
       "      <td>10000.0</td>\n",
       "      <td>home_improvement</td>\n",
       "    </tr>\n",
       "    <tr>\n",
       "      <th>17</th>\n",
       "      <td>110000.00</td>\n",
       "      <td>3600.0</td>\n",
       "      <td>major_purchase</td>\n",
       "    </tr>\n",
       "    <tr>\n",
       "      <th>18</th>\n",
       "      <td>84000.00</td>\n",
       "      <td>6000.0</td>\n",
       "      <td>medical</td>\n",
       "    </tr>\n",
       "    <tr>\n",
       "      <th>19</th>\n",
       "      <td>77385.19</td>\n",
       "      <td>9200.0</td>\n",
       "      <td>debt_consolidation</td>\n",
       "    </tr>\n",
       "    <tr>\n",
       "      <th>20</th>\n",
       "      <td>43370.00</td>\n",
       "      <td>20250.0</td>\n",
       "      <td>debt_consolidation</td>\n",
       "    </tr>\n",
       "    <tr>\n",
       "      <th>21</th>\n",
       "      <td>105000.00</td>\n",
       "      <td>21000.0</td>\n",
       "      <td>debt_consolidation</td>\n",
       "    </tr>\n",
       "    <tr>\n",
       "      <th>22</th>\n",
       "      <td>50000.00</td>\n",
       "      <td>10000.0</td>\n",
       "      <td>credit_card</td>\n",
       "    </tr>\n",
       "    <tr>\n",
       "      <th>23</th>\n",
       "      <td>50000.00</td>\n",
       "      <td>10000.0</td>\n",
       "      <td>debt_consolidation</td>\n",
       "    </tr>\n",
       "    <tr>\n",
       "      <th>24</th>\n",
       "      <td>76000.00</td>\n",
       "      <td>6000.0</td>\n",
       "      <td>major_purchase</td>\n",
       "    </tr>\n",
       "    <tr>\n",
       "      <th>25</th>\n",
       "      <td>92000.00</td>\n",
       "      <td>15000.0</td>\n",
       "      <td>credit_card</td>\n",
       "    </tr>\n",
       "    <tr>\n",
       "      <th>26</th>\n",
       "      <td>60000.00</td>\n",
       "      <td>15000.0</td>\n",
       "      <td>debt_consolidation</td>\n",
       "    </tr>\n",
       "    <tr>\n",
       "      <th>27</th>\n",
       "      <td>50004.00</td>\n",
       "      <td>5000.0</td>\n",
       "      <td>other</td>\n",
       "    </tr>\n",
       "    <tr>\n",
       "      <th>28</th>\n",
       "      <td>106000.00</td>\n",
       "      <td>4000.0</td>\n",
       "      <td>debt_consolidation</td>\n",
       "    </tr>\n",
       "    <tr>\n",
       "      <th>29</th>\n",
       "      <td>25000.00</td>\n",
       "      <td>8500.0</td>\n",
       "      <td>credit_card</td>\n",
       "    </tr>\n",
       "    <tr>\n",
       "      <th>...</th>\n",
       "      <td>...</td>\n",
       "      <td>...</td>\n",
       "      <td>...</td>\n",
       "    </tr>\n",
       "    <tr>\n",
       "      <th>88707</th>\n",
       "      <td>40000.00</td>\n",
       "      <td>10750.0</td>\n",
       "      <td>credit_card</td>\n",
       "    </tr>\n",
       "    <tr>\n",
       "      <th>88708</th>\n",
       "      <td>85000.00</td>\n",
       "      <td>15000.0</td>\n",
       "      <td>debt_consolidation</td>\n",
       "    </tr>\n",
       "    <tr>\n",
       "      <th>88709</th>\n",
       "      <td>132000.00</td>\n",
       "      <td>12800.0</td>\n",
       "      <td>credit_card</td>\n",
       "    </tr>\n",
       "    <tr>\n",
       "      <th>88710</th>\n",
       "      <td>65000.00</td>\n",
       "      <td>24725.0</td>\n",
       "      <td>debt_consolidation</td>\n",
       "    </tr>\n",
       "    <tr>\n",
       "      <th>88711</th>\n",
       "      <td>53000.00</td>\n",
       "      <td>10000.0</td>\n",
       "      <td>credit_card</td>\n",
       "    </tr>\n",
       "    <tr>\n",
       "      <th>88712</th>\n",
       "      <td>62000.00</td>\n",
       "      <td>20400.0</td>\n",
       "      <td>debt_consolidation</td>\n",
       "    </tr>\n",
       "    <tr>\n",
       "      <th>88713</th>\n",
       "      <td>37000.00</td>\n",
       "      <td>2800.0</td>\n",
       "      <td>debt_consolidation</td>\n",
       "    </tr>\n",
       "    <tr>\n",
       "      <th>88714</th>\n",
       "      <td>60000.00</td>\n",
       "      <td>15000.0</td>\n",
       "      <td>debt_consolidation</td>\n",
       "    </tr>\n",
       "    <tr>\n",
       "      <th>88715</th>\n",
       "      <td>53000.00</td>\n",
       "      <td>23850.0</td>\n",
       "      <td>debt_consolidation</td>\n",
       "    </tr>\n",
       "    <tr>\n",
       "      <th>88716</th>\n",
       "      <td>140000.00</td>\n",
       "      <td>24000.0</td>\n",
       "      <td>home_improvement</td>\n",
       "    </tr>\n",
       "    <tr>\n",
       "      <th>88717</th>\n",
       "      <td>70505.00</td>\n",
       "      <td>20000.0</td>\n",
       "      <td>debt_consolidation</td>\n",
       "    </tr>\n",
       "    <tr>\n",
       "      <th>88718</th>\n",
       "      <td>38896.00</td>\n",
       "      <td>5000.0</td>\n",
       "      <td>credit_card</td>\n",
       "    </tr>\n",
       "    <tr>\n",
       "      <th>88719</th>\n",
       "      <td>105000.00</td>\n",
       "      <td>20000.0</td>\n",
       "      <td>credit_card</td>\n",
       "    </tr>\n",
       "    <tr>\n",
       "      <th>88720</th>\n",
       "      <td>28000.00</td>\n",
       "      <td>3750.0</td>\n",
       "      <td>debt_consolidation</td>\n",
       "    </tr>\n",
       "    <tr>\n",
       "      <th>88721</th>\n",
       "      <td>35100.00</td>\n",
       "      <td>11800.0</td>\n",
       "      <td>debt_consolidation</td>\n",
       "    </tr>\n",
       "    <tr>\n",
       "      <th>88722</th>\n",
       "      <td>102000.00</td>\n",
       "      <td>25000.0</td>\n",
       "      <td>debt_consolidation</td>\n",
       "    </tr>\n",
       "    <tr>\n",
       "      <th>88723</th>\n",
       "      <td>40000.00</td>\n",
       "      <td>9450.0</td>\n",
       "      <td>debt_consolidation</td>\n",
       "    </tr>\n",
       "    <tr>\n",
       "      <th>88724</th>\n",
       "      <td>97000.00</td>\n",
       "      <td>17625.0</td>\n",
       "      <td>debt_consolidation</td>\n",
       "    </tr>\n",
       "    <tr>\n",
       "      <th>88725</th>\n",
       "      <td>88000.00</td>\n",
       "      <td>10625.0</td>\n",
       "      <td>debt_consolidation</td>\n",
       "    </tr>\n",
       "    <tr>\n",
       "      <th>88726</th>\n",
       "      <td>68000.00</td>\n",
       "      <td>5000.0</td>\n",
       "      <td>debt_consolidation</td>\n",
       "    </tr>\n",
       "    <tr>\n",
       "      <th>88727</th>\n",
       "      <td>65000.00</td>\n",
       "      <td>12000.0</td>\n",
       "      <td>other</td>\n",
       "    </tr>\n",
       "    <tr>\n",
       "      <th>88728</th>\n",
       "      <td>61000.00</td>\n",
       "      <td>2800.0</td>\n",
       "      <td>medical</td>\n",
       "    </tr>\n",
       "    <tr>\n",
       "      <th>88729</th>\n",
       "      <td>55000.00</td>\n",
       "      <td>18650.0</td>\n",
       "      <td>debt_consolidation</td>\n",
       "    </tr>\n",
       "    <tr>\n",
       "      <th>88730</th>\n",
       "      <td>98091.00</td>\n",
       "      <td>8000.0</td>\n",
       "      <td>debt_consolidation</td>\n",
       "    </tr>\n",
       "    <tr>\n",
       "      <th>88731</th>\n",
       "      <td>54000.00</td>\n",
       "      <td>13000.0</td>\n",
       "      <td>debt_consolidation</td>\n",
       "    </tr>\n",
       "    <tr>\n",
       "      <th>88732</th>\n",
       "      <td>73000.00</td>\n",
       "      <td>10000.0</td>\n",
       "      <td>debt_consolidation</td>\n",
       "    </tr>\n",
       "    <tr>\n",
       "      <th>88733</th>\n",
       "      <td>20000.00</td>\n",
       "      <td>6000.0</td>\n",
       "      <td>credit_card</td>\n",
       "    </tr>\n",
       "    <tr>\n",
       "      <th>88734</th>\n",
       "      <td>58000.00</td>\n",
       "      <td>16000.0</td>\n",
       "      <td>debt_consolidation</td>\n",
       "    </tr>\n",
       "    <tr>\n",
       "      <th>88735</th>\n",
       "      <td>62500.00</td>\n",
       "      <td>5125.0</td>\n",
       "      <td>vacation</td>\n",
       "    </tr>\n",
       "    <tr>\n",
       "      <th>88736</th>\n",
       "      <td>90000.00</td>\n",
       "      <td>6500.0</td>\n",
       "      <td>debt_consolidation</td>\n",
       "    </tr>\n",
       "  </tbody>\n",
       "</table>\n",
       "<p>88737 rows × 3 columns</p>\n",
       "</div>"
      ],
      "text/plain": [
       "       annual_inc  funded_amnt             purpose\n",
       "0        24000.00       5000.0         credit_card\n",
       "1        30000.00       2500.0                 car\n",
       "2        12252.00       2400.0      small_business\n",
       "3        49200.00      10000.0               other\n",
       "4        80000.00       3000.0               other\n",
       "5        36000.00       5000.0             wedding\n",
       "6        47004.00       7000.0  debt_consolidation\n",
       "7        48000.00       3000.0                 car\n",
       "8        40000.00       5600.0      small_business\n",
       "9        15000.00       5375.0               other\n",
       "10       72000.00       6500.0  debt_consolidation\n",
       "11       75000.00      12000.0  debt_consolidation\n",
       "12       30000.00       9000.0  debt_consolidation\n",
       "13       15000.00       3000.0         credit_card\n",
       "14      100000.00      10000.0               other\n",
       "15       28000.00       1000.0  debt_consolidation\n",
       "16       42000.00      10000.0    home_improvement\n",
       "17      110000.00       3600.0      major_purchase\n",
       "18       84000.00       6000.0             medical\n",
       "19       77385.19       9200.0  debt_consolidation\n",
       "20       43370.00      20250.0  debt_consolidation\n",
       "21      105000.00      21000.0  debt_consolidation\n",
       "22       50000.00      10000.0         credit_card\n",
       "23       50000.00      10000.0  debt_consolidation\n",
       "24       76000.00       6000.0      major_purchase\n",
       "25       92000.00      15000.0         credit_card\n",
       "26       60000.00      15000.0  debt_consolidation\n",
       "27       50004.00       5000.0               other\n",
       "28      106000.00       4000.0  debt_consolidation\n",
       "29       25000.00       8500.0         credit_card\n",
       "...           ...          ...                 ...\n",
       "88707    40000.00      10750.0         credit_card\n",
       "88708    85000.00      15000.0  debt_consolidation\n",
       "88709   132000.00      12800.0         credit_card\n",
       "88710    65000.00      24725.0  debt_consolidation\n",
       "88711    53000.00      10000.0         credit_card\n",
       "88712    62000.00      20400.0  debt_consolidation\n",
       "88713    37000.00       2800.0  debt_consolidation\n",
       "88714    60000.00      15000.0  debt_consolidation\n",
       "88715    53000.00      23850.0  debt_consolidation\n",
       "88716   140000.00      24000.0    home_improvement\n",
       "88717    70505.00      20000.0  debt_consolidation\n",
       "88718    38896.00       5000.0         credit_card\n",
       "88719   105000.00      20000.0         credit_card\n",
       "88720    28000.00       3750.0  debt_consolidation\n",
       "88721    35100.00      11800.0  debt_consolidation\n",
       "88722   102000.00      25000.0  debt_consolidation\n",
       "88723    40000.00       9450.0  debt_consolidation\n",
       "88724    97000.00      17625.0  debt_consolidation\n",
       "88725    88000.00      10625.0  debt_consolidation\n",
       "88726    68000.00       5000.0  debt_consolidation\n",
       "88727    65000.00      12000.0               other\n",
       "88728    61000.00       2800.0             medical\n",
       "88729    55000.00      18650.0  debt_consolidation\n",
       "88730    98091.00       8000.0  debt_consolidation\n",
       "88731    54000.00      13000.0  debt_consolidation\n",
       "88732    73000.00      10000.0  debt_consolidation\n",
       "88733    20000.00       6000.0         credit_card\n",
       "88734    58000.00      16000.0  debt_consolidation\n",
       "88735    62500.00       5125.0            vacation\n",
       "88736    90000.00       6500.0  debt_consolidation\n",
       "\n",
       "[88737 rows x 3 columns]"
      ]
     },
     "execution_count": 17,
     "metadata": {},
     "output_type": "execute_result"
    }
   ],
   "source": [
    "df1"
   ]
  },
  {
   "cell_type": "code",
   "execution_count": 15,
   "metadata": {
    "collapsed": false
   },
   "outputs": [
    {
     "data": {
      "text/plain": [
       "(88737, 3)"
      ]
     },
     "execution_count": 15,
     "metadata": {},
     "output_type": "execute_result"
    }
   ],
   "source": [
    "df1.shape"
   ]
  },
  {
   "cell_type": "markdown",
   "metadata": {},
   "source": [
    "5- Prepare by plotting your soon to be y value and x value(s) from your testing data set"
   ]
  },
  {
   "cell_type": "markdown",
   "metadata": {},
   "source": [
    "This section shows 10% of the data (sample pop.)"
   ]
  },
  {
   "cell_type": "code",
   "execution_count": 20,
   "metadata": {
    "collapsed": false
   },
   "outputs": [
    {
     "data": {
      "image/png": "[encoded data removed]",
      "text/plain": [
       "<matplotlib.figure.Figure at 0x10b060f60>"
      ]
     },
     "metadata": {},
     "output_type": "display_data"
    }
   ],
   "source": [
    "#plot your first sample data set\n",
    "fig = plt.figure(1)\n",
    "ax1 = fig.add_subplot(111)\n",
    "ax1.set_xlabel('annual_inc')\n",
    "ax1.set_ylabel('funded_amnt')\n",
    "ax1.set_title('Annual Income vs funded amount')\n",
    "ax1.plot('annual_inc', 'funded_amnt', data = df1);\n",
    "plt.show()"
   ]
  },
  {
   "cell_type": "markdown",
   "metadata": {},
   "source": [
    "This sections shows 50%"
   ]
  },
  {
   "cell_type": "markdown",
   "metadata": {},
   "source": [
    "6- Repeat process for your training data set"
   ]
  },
  {
   "cell_type": "code",
   "execution_count": 22,
   "metadata": {
    "collapsed": true
   },
   "outputs": [],
   "source": [
    "rows = training_data.index\n",
    "row_count = len(rows)\n",
    "random.shuffle(list(rows))\n",
    "\n",
    "training_data.reindex(rows)\n",
    "\n",
    "training_data2 = training_data[row_count // 10:]\n",
    "testing_data2 = training_data[:row_count // 10]"
   ]
  },
  {
   "cell_type": "code",
   "execution_count": 23,
   "metadata": {
    "collapsed": false
   },
   "outputs": [
    {
     "data": {
      "text/plain": [
       "(79864, 74)"
      ]
     },
     "execution_count": 23,
     "metadata": {},
     "output_type": "execute_result"
    }
   ],
   "source": [
    "testing_data2.shape"
   ]
  },
  {
   "cell_type": "code",
   "execution_count": 24,
   "metadata": {
    "collapsed": false
   },
   "outputs": [],
   "source": [
    "df2 = testing_data2[['annual_inc','funded_amnt','purpose']]"
   ]
  },
  {
   "cell_type": "code",
   "execution_count": 102,
   "metadata": {
    "collapsed": false
   },
   "outputs": [
    {
     "data": {
      "text/html": [
       "<div>\n",
       "<table border=\"1\" class=\"dataframe\">\n",
       "  <thead>\n",
       "    <tr style=\"text-align: right;\">\n",
       "      <th></th>\n",
       "      <th>dti</th>\n",
       "      <th>funded_amnt</th>\n",
       "      <th>purpose</th>\n",
       "    </tr>\n",
       "  </thead>\n",
       "  <tbody>\n",
       "    <tr>\n",
       "      <th>88737</th>\n",
       "      <td>32.58</td>\n",
       "      <td>7750.0</td>\n",
       "      <td>debt_consolidation</td>\n",
       "    </tr>\n",
       "    <tr>\n",
       "      <th>88738</th>\n",
       "      <td>13.71</td>\n",
       "      <td>15000.0</td>\n",
       "      <td>home_improvement</td>\n",
       "    </tr>\n",
       "    <tr>\n",
       "      <th>88739</th>\n",
       "      <td>25.44</td>\n",
       "      <td>10000.0</td>\n",
       "      <td>credit_card</td>\n",
       "    </tr>\n",
       "    <tr>\n",
       "      <th>88740</th>\n",
       "      <td>22.52</td>\n",
       "      <td>18000.0</td>\n",
       "      <td>debt_consolidation</td>\n",
       "    </tr>\n",
       "    <tr>\n",
       "      <th>88741</th>\n",
       "      <td>11.06</td>\n",
       "      <td>22000.0</td>\n",
       "      <td>other</td>\n",
       "    </tr>\n",
       "    <tr>\n",
       "      <th>88742</th>\n",
       "      <td>24.21</td>\n",
       "      <td>7550.0</td>\n",
       "      <td>debt_consolidation</td>\n",
       "    </tr>\n",
       "    <tr>\n",
       "      <th>88743</th>\n",
       "      <td>19.45</td>\n",
       "      <td>17200.0</td>\n",
       "      <td>credit_card</td>\n",
       "    </tr>\n",
       "    <tr>\n",
       "      <th>88744</th>\n",
       "      <td>22.87</td>\n",
       "      <td>30000.0</td>\n",
       "      <td>debt_consolidation</td>\n",
       "    </tr>\n",
       "    <tr>\n",
       "      <th>88745</th>\n",
       "      <td>27.12</td>\n",
       "      <td>5500.0</td>\n",
       "      <td>home_improvement</td>\n",
       "    </tr>\n",
       "    <tr>\n",
       "      <th>88746</th>\n",
       "      <td>20.15</td>\n",
       "      <td>24000.0</td>\n",
       "      <td>debt_consolidation</td>\n",
       "    </tr>\n",
       "    <tr>\n",
       "      <th>88747</th>\n",
       "      <td>8.44</td>\n",
       "      <td>7000.0</td>\n",
       "      <td>credit_card</td>\n",
       "    </tr>\n",
       "    <tr>\n",
       "      <th>88748</th>\n",
       "      <td>23.00</td>\n",
       "      <td>8000.0</td>\n",
       "      <td>credit_card</td>\n",
       "    </tr>\n",
       "    <tr>\n",
       "      <th>88749</th>\n",
       "      <td>15.88</td>\n",
       "      <td>13000.0</td>\n",
       "      <td>house</td>\n",
       "    </tr>\n",
       "    <tr>\n",
       "      <th>88750</th>\n",
       "      <td>6.92</td>\n",
       "      <td>10200.0</td>\n",
       "      <td>credit_card</td>\n",
       "    </tr>\n",
       "    <tr>\n",
       "      <th>88751</th>\n",
       "      <td>16.62</td>\n",
       "      <td>7000.0</td>\n",
       "      <td>debt_consolidation</td>\n",
       "    </tr>\n",
       "    <tr>\n",
       "      <th>88752</th>\n",
       "      <td>17.08</td>\n",
       "      <td>20800.0</td>\n",
       "      <td>debt_consolidation</td>\n",
       "    </tr>\n",
       "    <tr>\n",
       "      <th>88753</th>\n",
       "      <td>10.13</td>\n",
       "      <td>14400.0</td>\n",
       "      <td>credit_card</td>\n",
       "    </tr>\n",
       "    <tr>\n",
       "      <th>88754</th>\n",
       "      <td>2.85</td>\n",
       "      <td>28000.0</td>\n",
       "      <td>debt_consolidation</td>\n",
       "    </tr>\n",
       "    <tr>\n",
       "      <th>88755</th>\n",
       "      <td>17.88</td>\n",
       "      <td>12000.0</td>\n",
       "      <td>debt_consolidation</td>\n",
       "    </tr>\n",
       "    <tr>\n",
       "      <th>88756</th>\n",
       "      <td>21.26</td>\n",
       "      <td>10000.0</td>\n",
       "      <td>debt_consolidation</td>\n",
       "    </tr>\n",
       "    <tr>\n",
       "      <th>88757</th>\n",
       "      <td>12.13</td>\n",
       "      <td>30000.0</td>\n",
       "      <td>debt_consolidation</td>\n",
       "    </tr>\n",
       "    <tr>\n",
       "      <th>88758</th>\n",
       "      <td>29.61</td>\n",
       "      <td>19075.0</td>\n",
       "      <td>debt_consolidation</td>\n",
       "    </tr>\n",
       "    <tr>\n",
       "      <th>88759</th>\n",
       "      <td>4.86</td>\n",
       "      <td>3200.0</td>\n",
       "      <td>debt_consolidation</td>\n",
       "    </tr>\n",
       "    <tr>\n",
       "      <th>88760</th>\n",
       "      <td>21.15</td>\n",
       "      <td>16000.0</td>\n",
       "      <td>debt_consolidation</td>\n",
       "    </tr>\n",
       "    <tr>\n",
       "      <th>88761</th>\n",
       "      <td>12.72</td>\n",
       "      <td>12000.0</td>\n",
       "      <td>credit_card</td>\n",
       "    </tr>\n",
       "    <tr>\n",
       "      <th>88762</th>\n",
       "      <td>21.53</td>\n",
       "      <td>12000.0</td>\n",
       "      <td>debt_consolidation</td>\n",
       "    </tr>\n",
       "    <tr>\n",
       "      <th>88763</th>\n",
       "      <td>23.57</td>\n",
       "      <td>18500.0</td>\n",
       "      <td>credit_card</td>\n",
       "    </tr>\n",
       "    <tr>\n",
       "      <th>88764</th>\n",
       "      <td>15.10</td>\n",
       "      <td>24000.0</td>\n",
       "      <td>debt_consolidation</td>\n",
       "    </tr>\n",
       "    <tr>\n",
       "      <th>88765</th>\n",
       "      <td>8.03</td>\n",
       "      <td>12000.0</td>\n",
       "      <td>debt_consolidation</td>\n",
       "    </tr>\n",
       "    <tr>\n",
       "      <th>88766</th>\n",
       "      <td>17.74</td>\n",
       "      <td>20000.0</td>\n",
       "      <td>debt_consolidation</td>\n",
       "    </tr>\n",
       "    <tr>\n",
       "      <th>...</th>\n",
       "      <td>...</td>\n",
       "      <td>...</td>\n",
       "      <td>...</td>\n",
       "    </tr>\n",
       "    <tr>\n",
       "      <th>168571</th>\n",
       "      <td>4.87</td>\n",
       "      <td>20000.0</td>\n",
       "      <td>debt_consolidation</td>\n",
       "    </tr>\n",
       "    <tr>\n",
       "      <th>168572</th>\n",
       "      <td>18.91</td>\n",
       "      <td>27000.0</td>\n",
       "      <td>debt_consolidation</td>\n",
       "    </tr>\n",
       "    <tr>\n",
       "      <th>168573</th>\n",
       "      <td>15.11</td>\n",
       "      <td>6500.0</td>\n",
       "      <td>debt_consolidation</td>\n",
       "    </tr>\n",
       "    <tr>\n",
       "      <th>168574</th>\n",
       "      <td>17.65</td>\n",
       "      <td>13000.0</td>\n",
       "      <td>debt_consolidation</td>\n",
       "    </tr>\n",
       "    <tr>\n",
       "      <th>168575</th>\n",
       "      <td>6.06</td>\n",
       "      <td>13000.0</td>\n",
       "      <td>debt_consolidation</td>\n",
       "    </tr>\n",
       "    <tr>\n",
       "      <th>168576</th>\n",
       "      <td>13.88</td>\n",
       "      <td>30225.0</td>\n",
       "      <td>credit_card</td>\n",
       "    </tr>\n",
       "    <tr>\n",
       "      <th>168577</th>\n",
       "      <td>19.54</td>\n",
       "      <td>18000.0</td>\n",
       "      <td>debt_consolidation</td>\n",
       "    </tr>\n",
       "    <tr>\n",
       "      <th>168578</th>\n",
       "      <td>3.19</td>\n",
       "      <td>18000.0</td>\n",
       "      <td>debt_consolidation</td>\n",
       "    </tr>\n",
       "    <tr>\n",
       "      <th>168579</th>\n",
       "      <td>31.85</td>\n",
       "      <td>26625.0</td>\n",
       "      <td>debt_consolidation</td>\n",
       "    </tr>\n",
       "    <tr>\n",
       "      <th>168580</th>\n",
       "      <td>20.06</td>\n",
       "      <td>12400.0</td>\n",
       "      <td>credit_card</td>\n",
       "    </tr>\n",
       "    <tr>\n",
       "      <th>168581</th>\n",
       "      <td>31.55</td>\n",
       "      <td>12000.0</td>\n",
       "      <td>debt_consolidation</td>\n",
       "    </tr>\n",
       "    <tr>\n",
       "      <th>168582</th>\n",
       "      <td>25.04</td>\n",
       "      <td>30000.0</td>\n",
       "      <td>credit_card</td>\n",
       "    </tr>\n",
       "    <tr>\n",
       "      <th>168583</th>\n",
       "      <td>24.07</td>\n",
       "      <td>19000.0</td>\n",
       "      <td>debt_consolidation</td>\n",
       "    </tr>\n",
       "    <tr>\n",
       "      <th>168584</th>\n",
       "      <td>4.03</td>\n",
       "      <td>4000.0</td>\n",
       "      <td>debt_consolidation</td>\n",
       "    </tr>\n",
       "    <tr>\n",
       "      <th>168585</th>\n",
       "      <td>26.06</td>\n",
       "      <td>5800.0</td>\n",
       "      <td>debt_consolidation</td>\n",
       "    </tr>\n",
       "    <tr>\n",
       "      <th>168586</th>\n",
       "      <td>5.40</td>\n",
       "      <td>8000.0</td>\n",
       "      <td>credit_card</td>\n",
       "    </tr>\n",
       "    <tr>\n",
       "      <th>168587</th>\n",
       "      <td>24.66</td>\n",
       "      <td>24000.0</td>\n",
       "      <td>debt_consolidation</td>\n",
       "    </tr>\n",
       "    <tr>\n",
       "      <th>168588</th>\n",
       "      <td>16.52</td>\n",
       "      <td>24375.0</td>\n",
       "      <td>credit_card</td>\n",
       "    </tr>\n",
       "    <tr>\n",
       "      <th>168589</th>\n",
       "      <td>20.36</td>\n",
       "      <td>18000.0</td>\n",
       "      <td>home_improvement</td>\n",
       "    </tr>\n",
       "    <tr>\n",
       "      <th>168590</th>\n",
       "      <td>18.98</td>\n",
       "      <td>28100.0</td>\n",
       "      <td>credit_card</td>\n",
       "    </tr>\n",
       "    <tr>\n",
       "      <th>168591</th>\n",
       "      <td>14.48</td>\n",
       "      <td>20000.0</td>\n",
       "      <td>debt_consolidation</td>\n",
       "    </tr>\n",
       "    <tr>\n",
       "      <th>168592</th>\n",
       "      <td>25.03</td>\n",
       "      <td>15000.0</td>\n",
       "      <td>debt_consolidation</td>\n",
       "    </tr>\n",
       "    <tr>\n",
       "      <th>168593</th>\n",
       "      <td>30.52</td>\n",
       "      <td>24575.0</td>\n",
       "      <td>debt_consolidation</td>\n",
       "    </tr>\n",
       "    <tr>\n",
       "      <th>168594</th>\n",
       "      <td>18.69</td>\n",
       "      <td>24175.0</td>\n",
       "      <td>debt_consolidation</td>\n",
       "    </tr>\n",
       "    <tr>\n",
       "      <th>168595</th>\n",
       "      <td>7.96</td>\n",
       "      <td>18375.0</td>\n",
       "      <td>debt_consolidation</td>\n",
       "    </tr>\n",
       "    <tr>\n",
       "      <th>168596</th>\n",
       "      <td>23.80</td>\n",
       "      <td>24000.0</td>\n",
       "      <td>debt_consolidation</td>\n",
       "    </tr>\n",
       "    <tr>\n",
       "      <th>168597</th>\n",
       "      <td>17.98</td>\n",
       "      <td>12000.0</td>\n",
       "      <td>credit_card</td>\n",
       "    </tr>\n",
       "    <tr>\n",
       "      <th>168598</th>\n",
       "      <td>18.50</td>\n",
       "      <td>35000.0</td>\n",
       "      <td>debt_consolidation</td>\n",
       "    </tr>\n",
       "    <tr>\n",
       "      <th>168599</th>\n",
       "      <td>23.94</td>\n",
       "      <td>30000.0</td>\n",
       "      <td>debt_consolidation</td>\n",
       "    </tr>\n",
       "    <tr>\n",
       "      <th>168600</th>\n",
       "      <td>18.75</td>\n",
       "      <td>14000.0</td>\n",
       "      <td>credit_card</td>\n",
       "    </tr>\n",
       "  </tbody>\n",
       "</table>\n",
       "<p>79864 rows × 3 columns</p>\n",
       "</div>"
      ],
      "text/plain": [
       "          dti  funded_amnt             purpose\n",
       "88737   32.58       7750.0  debt_consolidation\n",
       "88738   13.71      15000.0    home_improvement\n",
       "88739   25.44      10000.0         credit_card\n",
       "88740   22.52      18000.0  debt_consolidation\n",
       "88741   11.06      22000.0               other\n",
       "88742   24.21       7550.0  debt_consolidation\n",
       "88743   19.45      17200.0         credit_card\n",
       "88744   22.87      30000.0  debt_consolidation\n",
       "88745   27.12       5500.0    home_improvement\n",
       "88746   20.15      24000.0  debt_consolidation\n",
       "88747    8.44       7000.0         credit_card\n",
       "88748   23.00       8000.0         credit_card\n",
       "88749   15.88      13000.0               house\n",
       "88750    6.92      10200.0         credit_card\n",
       "88751   16.62       7000.0  debt_consolidation\n",
       "88752   17.08      20800.0  debt_consolidation\n",
       "88753   10.13      14400.0         credit_card\n",
       "88754    2.85      28000.0  debt_consolidation\n",
       "88755   17.88      12000.0  debt_consolidation\n",
       "88756   21.26      10000.0  debt_consolidation\n",
       "88757   12.13      30000.0  debt_consolidation\n",
       "88758   29.61      19075.0  debt_consolidation\n",
       "88759    4.86       3200.0  debt_consolidation\n",
       "88760   21.15      16000.0  debt_consolidation\n",
       "88761   12.72      12000.0         credit_card\n",
       "88762   21.53      12000.0  debt_consolidation\n",
       "88763   23.57      18500.0         credit_card\n",
       "88764   15.10      24000.0  debt_consolidation\n",
       "88765    8.03      12000.0  debt_consolidation\n",
       "88766   17.74      20000.0  debt_consolidation\n",
       "...       ...          ...                 ...\n",
       "168571   4.87      20000.0  debt_consolidation\n",
       "168572  18.91      27000.0  debt_consolidation\n",
       "168573  15.11       6500.0  debt_consolidation\n",
       "168574  17.65      13000.0  debt_consolidation\n",
       "168575   6.06      13000.0  debt_consolidation\n",
       "168576  13.88      30225.0         credit_card\n",
       "168577  19.54      18000.0  debt_consolidation\n",
       "168578   3.19      18000.0  debt_consolidation\n",
       "168579  31.85      26625.0  debt_consolidation\n",
       "168580  20.06      12400.0         credit_card\n",
       "168581  31.55      12000.0  debt_consolidation\n",
       "168582  25.04      30000.0         credit_card\n",
       "168583  24.07      19000.0  debt_consolidation\n",
       "168584   4.03       4000.0  debt_consolidation\n",
       "168585  26.06       5800.0  debt_consolidation\n",
       "168586   5.40       8000.0         credit_card\n",
       "168587  24.66      24000.0  debt_consolidation\n",
       "168588  16.52      24375.0         credit_card\n",
       "168589  20.36      18000.0    home_improvement\n",
       "168590  18.98      28100.0         credit_card\n",
       "168591  14.48      20000.0  debt_consolidation\n",
       "168592  25.03      15000.0  debt_consolidation\n",
       "168593  30.52      24575.0  debt_consolidation\n",
       "168594  18.69      24175.0  debt_consolidation\n",
       "168595   7.96      18375.0  debt_consolidation\n",
       "168596  23.80      24000.0  debt_consolidation\n",
       "168597  17.98      12000.0         credit_card\n",
       "168598  18.50      35000.0  debt_consolidation\n",
       "168599  23.94      30000.0  debt_consolidation\n",
       "168600  18.75      14000.0         credit_card\n",
       "\n",
       "[79864 rows x 3 columns]"
      ]
     },
     "execution_count": 102,
     "metadata": {},
     "output_type": "execute_result"
    }
   ],
   "source": [
    "df2"
   ]
  },
  {
   "cell_type": "code",
   "execution_count": 25,
   "metadata": {
    "collapsed": false
   },
   "outputs": [
    {
     "data": {
      "text/plain": [
       "(79864, 3)"
      ]
     },
     "execution_count": 25,
     "metadata": {},
     "output_type": "execute_result"
    }
   ],
   "source": [
    "df2.shape"
   ]
  },
  {
   "cell_type": "code",
   "execution_count": 26,
   "metadata": {
    "collapsed": false
   },
   "outputs": [
    {
     "data": {
      "image/png": "[encoded data removed]",
      "text/plain": [
       "<matplotlib.figure.Figure at 0x10e6ac828>"
      ]
     },
     "metadata": {},
     "output_type": "display_data"
    }
   ],
   "source": [
    "#plot your second sample data set\n",
    "fig = plt.figure(1)\n",
    "ax1 = fig.add_subplot(111)\n",
    "ax1.set_xlabel('annual_inc')\n",
    "ax1.set_ylabel('funded_amnt')\n",
    "ax1.set_title('Annual Income vs Funded Amount')\n",
    "ax1.plot('annual_inc', 'funded_amnt', data = df2);\n",
    "plt.show()"
   ]
  },
  {
   "cell_type": "markdown",
   "metadata": {},
   "source": [
    "7- Compare your training and testing data sets graphically"
   ]
  },
  {
   "cell_type": "code",
   "execution_count": 27,
   "metadata": {
    "collapsed": false
   },
   "outputs": [
    {
     "data": {
      "image/png": "[encoded data removed]",
      "text/plain": [
       "<matplotlib.figure.Figure at 0x1138146a0>"
      ]
     },
     "metadata": {},
     "output_type": "display_data"
    }
   ],
   "source": [
    "#compare both of them on a dual subplot\n",
    "fig, axes = plt.subplots(nrows = 1, ncols = 2, figsize = (11,6));\n",
    "axes[0].plot('annual_inc', 'funded_amnt', data = df1);\n",
    "axes[0].set_title('Sample1: Annual Income vs Funded Amount');\n",
    "axes[1].plot('annual_inc', 'funded_amnt', data = df2);\n",
    "axes[1].set_title('Sample2: Annual Income vs Funded Amount');"
   ]
  },
  {
   "cell_type": "markdown",
   "metadata": {},
   "source": [
    "8- Grab another testing data set sample in preparation for your Rolling/Smoothing analysis in order to find a more defined pattern. This is done better by finding a fitting line. "
   ]
  },
  {
   "cell_type": "code",
   "execution_count": 28,
   "metadata": {
    "collapsed": true
   },
   "outputs": [],
   "source": [
    "rows = training_data.index\n",
    "row_count = len(rows)\n",
    "random.shuffle(list(rows))\n",
    "\n",
    "training_data.reindex(rows)\n",
    "\n",
    "training_data3 = training_data[row_count // 10:]\n",
    "testing_data3 = training_data[:row_count // 4]"
   ]
  },
  {
   "cell_type": "code",
   "execution_count": 29,
   "metadata": {
    "collapsed": false
   },
   "outputs": [
    {
     "data": {
      "text/plain": [
       "(199660, 74)"
      ]
     },
     "execution_count": 29,
     "metadata": {},
     "output_type": "execute_result"
    }
   ],
   "source": [
    "testing_data3.shape"
   ]
  },
  {
   "cell_type": "code",
   "execution_count": 30,
   "metadata": {
    "collapsed": true
   },
   "outputs": [],
   "source": [
    "df3 = testing_data3[['annual_inc','funded_amnt','purpose']]"
   ]
  },
  {
   "cell_type": "code",
   "execution_count": 31,
   "metadata": {
    "collapsed": false
   },
   "outputs": [
    {
     "data": {
      "text/html": [
       "<div>\n",
       "<table border=\"1\" class=\"dataframe\">\n",
       "  <thead>\n",
       "    <tr style=\"text-align: right;\">\n",
       "      <th></th>\n",
       "      <th>annual_inc</th>\n",
       "      <th>funded_amnt</th>\n",
       "      <th>purpose</th>\n",
       "    </tr>\n",
       "  </thead>\n",
       "  <tbody>\n",
       "    <tr>\n",
       "      <th>88737</th>\n",
       "      <td>44275.0</td>\n",
       "      <td>7750.0</td>\n",
       "      <td>debt_consolidation</td>\n",
       "    </tr>\n",
       "    <tr>\n",
       "      <th>88738</th>\n",
       "      <td>113000.0</td>\n",
       "      <td>15000.0</td>\n",
       "      <td>home_improvement</td>\n",
       "    </tr>\n",
       "    <tr>\n",
       "      <th>88739</th>\n",
       "      <td>50000.0</td>\n",
       "      <td>10000.0</td>\n",
       "      <td>credit_card</td>\n",
       "    </tr>\n",
       "    <tr>\n",
       "      <th>88740</th>\n",
       "      <td>60000.0</td>\n",
       "      <td>18000.0</td>\n",
       "      <td>debt_consolidation</td>\n",
       "    </tr>\n",
       "    <tr>\n",
       "      <th>88741</th>\n",
       "      <td>104500.0</td>\n",
       "      <td>22000.0</td>\n",
       "      <td>other</td>\n",
       "    </tr>\n",
       "  </tbody>\n",
       "</table>\n",
       "</div>"
      ],
      "text/plain": [
       "       annual_inc  funded_amnt             purpose\n",
       "88737     44275.0       7750.0  debt_consolidation\n",
       "88738    113000.0      15000.0    home_improvement\n",
       "88739     50000.0      10000.0         credit_card\n",
       "88740     60000.0      18000.0  debt_consolidation\n",
       "88741    104500.0      22000.0               other"
      ]
     },
     "execution_count": 31,
     "metadata": {},
     "output_type": "execute_result"
    }
   ],
   "source": [
    "df3.head(5)"
   ]
  },
  {
   "cell_type": "code",
   "execution_count": 32,
   "metadata": {
    "collapsed": false
   },
   "outputs": [
    {
     "name": "stderr",
     "output_type": "stream",
     "text": [
      "//anaconda/lib/python3.6/site-packages/ipykernel/__main__.py:1: SettingWithCopyWarning: \n",
      "A value is trying to be set on a copy of a slice from a DataFrame.\n",
      "Try using .loc[row_indexer,col_indexer] = value instead\n",
      "\n",
      "See the caveats in the documentation: http://pandas.pydata.org/pandas-docs/stable/indexing.html#indexing-view-versus-copy\n",
      "  if __name__ == '__main__':\n"
     ]
    },
    {
     "data": {
      "text/html": [
       "<div>\n",
       "<table border=\"1\" class=\"dataframe\">\n",
       "  <thead>\n",
       "    <tr style=\"text-align: right;\">\n",
       "      <th></th>\n",
       "      <th>annual_inc</th>\n",
       "      <th>funded_amnt</th>\n",
       "      <th>purpose</th>\n",
       "      <th>Rolling_Mean</th>\n",
       "    </tr>\n",
       "  </thead>\n",
       "  <tbody>\n",
       "    <tr>\n",
       "      <th>88737</th>\n",
       "      <td>44275.0</td>\n",
       "      <td>7750.0</td>\n",
       "      <td>debt_consolidation</td>\n",
       "      <td>NaN</td>\n",
       "    </tr>\n",
       "    <tr>\n",
       "      <th>88738</th>\n",
       "      <td>113000.0</td>\n",
       "      <td>15000.0</td>\n",
       "      <td>home_improvement</td>\n",
       "      <td>NaN</td>\n",
       "    </tr>\n",
       "    <tr>\n",
       "      <th>88739</th>\n",
       "      <td>50000.0</td>\n",
       "      <td>10000.0</td>\n",
       "      <td>credit_card</td>\n",
       "      <td>NaN</td>\n",
       "    </tr>\n",
       "    <tr>\n",
       "      <th>88740</th>\n",
       "      <td>60000.0</td>\n",
       "      <td>18000.0</td>\n",
       "      <td>debt_consolidation</td>\n",
       "      <td>NaN</td>\n",
       "    </tr>\n",
       "    <tr>\n",
       "      <th>88741</th>\n",
       "      <td>104500.0</td>\n",
       "      <td>22000.0</td>\n",
       "      <td>other</td>\n",
       "      <td>NaN</td>\n",
       "    </tr>\n",
       "    <tr>\n",
       "      <th>88742</th>\n",
       "      <td>28000.0</td>\n",
       "      <td>7550.0</td>\n",
       "      <td>debt_consolidation</td>\n",
       "      <td>NaN</td>\n",
       "    </tr>\n",
       "    <tr>\n",
       "      <th>88743</th>\n",
       "      <td>138000.0</td>\n",
       "      <td>17200.0</td>\n",
       "      <td>credit_card</td>\n",
       "      <td>NaN</td>\n",
       "    </tr>\n",
       "    <tr>\n",
       "      <th>88744</th>\n",
       "      <td>79000.0</td>\n",
       "      <td>30000.0</td>\n",
       "      <td>debt_consolidation</td>\n",
       "      <td>NaN</td>\n",
       "    </tr>\n",
       "    <tr>\n",
       "      <th>88745</th>\n",
       "      <td>25920.0</td>\n",
       "      <td>5500.0</td>\n",
       "      <td>home_improvement</td>\n",
       "      <td>NaN</td>\n",
       "    </tr>\n",
       "    <tr>\n",
       "      <th>88746</th>\n",
       "      <td>92000.0</td>\n",
       "      <td>24000.0</td>\n",
       "      <td>debt_consolidation</td>\n",
       "      <td>NaN</td>\n",
       "    </tr>\n",
       "  </tbody>\n",
       "</table>\n",
       "</div>"
      ],
      "text/plain": [
       "       annual_inc  funded_amnt             purpose  Rolling_Mean\n",
       "88737     44275.0       7750.0  debt_consolidation           NaN\n",
       "88738    113000.0      15000.0    home_improvement           NaN\n",
       "88739     50000.0      10000.0         credit_card           NaN\n",
       "88740     60000.0      18000.0  debt_consolidation           NaN\n",
       "88741    104500.0      22000.0               other           NaN\n",
       "88742     28000.0       7550.0  debt_consolidation           NaN\n",
       "88743    138000.0      17200.0         credit_card           NaN\n",
       "88744     79000.0      30000.0  debt_consolidation           NaN\n",
       "88745     25920.0       5500.0    home_improvement           NaN\n",
       "88746     92000.0      24000.0  debt_consolidation           NaN"
      ]
     },
     "execution_count": 32,
     "metadata": {},
     "output_type": "execute_result"
    }
   ],
   "source": [
    "df3['Rolling_Mean'] = df3['annual_inc'].rolling(window = 80).mean()\n",
    "df3.head(10)"
   ]
  },
  {
   "cell_type": "markdown",
   "metadata": {},
   "source": [
    "9- Compare your original two sample data sets (testiing and training) and your newly generated smoothed line. "
   ]
  },
  {
   "cell_type": "code",
   "execution_count": 55,
   "metadata": {
    "collapsed": false
   },
   "outputs": [
    {
     "data": {
      "image/png": "[encoded data removed]",
      "text/plain": [
       "<matplotlib.figure.Figure at 0x113873eb8>"
      ]
     },
     "metadata": {},
     "output_type": "display_data"
    }
   ],
   "source": [
    "#create a triple subplot where you also include your smoothed line\n",
    "fig, axes = plt.subplots(nrows = 1, ncols = 3, figsize = (15,5));\n",
    "axes[0].plot('funded_amnt', 'annual_inc', data = df1);\n",
    "axes[0].set_title('Sample1: Annual Income vs funded Amount');\n",
    "axes[1].plot('funded_amnt', 'annual_inc', data = df2);\n",
    "axes[1].set_title('Sample1: Annual Income vs funded Amount');\n",
    "axes[2].plot('funded_amnt', 'Rolling_Mean', data = df3);\n",
    "axes[2].set_title('Smoothed Annual Income(Rolling_Mean)');"
   ]
  },
  {
   "cell_type": "markdown",
   "metadata": {},
   "source": [
    "10- Prepare data for your linear regression calculation by finding pertinent data ranges and inserting your linear regression built in functions from the SKlearn package. The output will result in your designated coefficients ready to be inserted into your immaginary linear regression equation. "
   ]
  },
  {
   "cell_type": "code",
   "execution_count": 56,
   "metadata": {
    "collapsed": false
   },
   "outputs": [],
   "source": [
    "df3_keypar = df3[(df3['annual_inc'] >= 1000) & (df3['annual_inc'] <= 110000)] \n"
   ]
  },
  {
   "cell_type": "code",
   "execution_count": 57,
   "metadata": {
    "collapsed": false
   },
   "outputs": [
    {
     "data": {
      "text/html": [
       "<div>\n",
       "<table border=\"1\" class=\"dataframe\">\n",
       "  <thead>\n",
       "    <tr style=\"text-align: right;\">\n",
       "      <th></th>\n",
       "      <th>annual_inc</th>\n",
       "      <th>funded_amnt</th>\n",
       "      <th>purpose</th>\n",
       "      <th>Rolling_Mean</th>\n",
       "    </tr>\n",
       "  </thead>\n",
       "  <tbody>\n",
       "    <tr>\n",
       "      <th>88737</th>\n",
       "      <td>44275.0</td>\n",
       "      <td>7750.0</td>\n",
       "      <td>debt_consolidation</td>\n",
       "      <td>NaN</td>\n",
       "    </tr>\n",
       "    <tr>\n",
       "      <th>88739</th>\n",
       "      <td>50000.0</td>\n",
       "      <td>10000.0</td>\n",
       "      <td>credit_card</td>\n",
       "      <td>NaN</td>\n",
       "    </tr>\n",
       "    <tr>\n",
       "      <th>88740</th>\n",
       "      <td>60000.0</td>\n",
       "      <td>18000.0</td>\n",
       "      <td>debt_consolidation</td>\n",
       "      <td>NaN</td>\n",
       "    </tr>\n",
       "    <tr>\n",
       "      <th>88741</th>\n",
       "      <td>104500.0</td>\n",
       "      <td>22000.0</td>\n",
       "      <td>other</td>\n",
       "      <td>NaN</td>\n",
       "    </tr>\n",
       "    <tr>\n",
       "      <th>88742</th>\n",
       "      <td>28000.0</td>\n",
       "      <td>7550.0</td>\n",
       "      <td>debt_consolidation</td>\n",
       "      <td>NaN</td>\n",
       "    </tr>\n",
       "  </tbody>\n",
       "</table>\n",
       "</div>"
      ],
      "text/plain": [
       "       annual_inc  funded_amnt             purpose  Rolling_Mean\n",
       "88737     44275.0       7750.0  debt_consolidation           NaN\n",
       "88739     50000.0      10000.0         credit_card           NaN\n",
       "88740     60000.0      18000.0  debt_consolidation           NaN\n",
       "88741    104500.0      22000.0               other           NaN\n",
       "88742     28000.0       7550.0  debt_consolidation           NaN"
      ]
     },
     "execution_count": 57,
     "metadata": {},
     "output_type": "execute_result"
    }
   ],
   "source": [
    "df3_keypar.head(5)"
   ]
  },
  {
   "cell_type": "code",
   "execution_count": 58,
   "metadata": {
    "collapsed": true
   },
   "outputs": [],
   "source": [
    "from sklearn.linear_model import LinearRegression"
   ]
  },
  {
   "cell_type": "code",
   "execution_count": 59,
   "metadata": {
    "collapsed": false
   },
   "outputs": [
    {
     "data": {
      "text/plain": [
       "array([[ 11015.4991531 ],\n",
       "       [ 11911.81290984],\n",
       "       [ 13477.42645873],\n",
       "       [ 20444.40675129],\n",
       "       [  8467.46310228]])"
      ]
     },
     "execution_count": 59,
     "metadata": {},
     "output_type": "execute_result"
    }
   ],
   "source": [
    "model = LinearRegression().fit(df3_keypar[['annual_inc']], df3_keypar[['funded_amnt']])\n",
    "m = model.coef_[0]\n",
    "b = model.intercept_\n",
    "#equation of the line\n",
    "#print 'y = ', round(m[0],2), 'x + ', round(b[0],2) ~ get invalid syntax error so it didn't print go back and check on syntax \n",
    "# using the equation of the line to get y values\n",
    "predicted_annualinc = model.predict(df3_keypar[['annual_inc']])\n",
    "predicted_annualinc[0:5]\n"
   ]
  },
  {
   "cell_type": "code",
   "execution_count": 60,
   "metadata": {
    "collapsed": false
   },
   "outputs": [
    {
     "data": {
      "text/html": [
       "<div>\n",
       "<table border=\"1\" class=\"dataframe\">\n",
       "  <thead>\n",
       "    <tr style=\"text-align: right;\">\n",
       "      <th></th>\n",
       "      <th>Predicted Annual Income</th>\n",
       "    </tr>\n",
       "  </thead>\n",
       "  <tbody>\n",
       "    <tr>\n",
       "      <th>88737</th>\n",
       "      <td>11015.499153</td>\n",
       "    </tr>\n",
       "    <tr>\n",
       "      <th>88739</th>\n",
       "      <td>11911.812910</td>\n",
       "    </tr>\n",
       "    <tr>\n",
       "      <th>88740</th>\n",
       "      <td>13477.426459</td>\n",
       "    </tr>\n",
       "    <tr>\n",
       "      <th>88741</th>\n",
       "      <td>20444.406751</td>\n",
       "    </tr>\n",
       "    <tr>\n",
       "      <th>88742</th>\n",
       "      <td>8467.463102</td>\n",
       "    </tr>\n",
       "  </tbody>\n",
       "</table>\n",
       "</div>"
      ],
      "text/plain": [
       "       Predicted Annual Income\n",
       "88737             11015.499153\n",
       "88739             11911.812910\n",
       "88740             13477.426459\n",
       "88741             20444.406751\n",
       "88742              8467.463102"
      ]
     },
     "execution_count": 60,
     "metadata": {},
     "output_type": "execute_result"
    }
   ],
   "source": [
    "predicted_annualinc = pd.DataFrame(data = predicted_annualinc, index = df3_keypar.index.values, columns = ['Predicted Annual Income'])\n",
    "predicted_annualinc.head()"
   ]
  },
  {
   "cell_type": "code",
   "execution_count": 62,
   "metadata": {
    "collapsed": false
   },
   "outputs": [
    {
     "data": {
      "text/html": [
       "<div>\n",
       "<table border=\"1\" class=\"dataframe\">\n",
       "  <thead>\n",
       "    <tr style=\"text-align: right;\">\n",
       "      <th></th>\n",
       "      <th>annual_inc</th>\n",
       "      <th>funded_amnt</th>\n",
       "      <th>purpose</th>\n",
       "      <th>Rolling_Mean</th>\n",
       "      <th>Predicted Annual Income</th>\n",
       "    </tr>\n",
       "  </thead>\n",
       "  <tbody>\n",
       "    <tr>\n",
       "      <th>88737</th>\n",
       "      <td>44275.0</td>\n",
       "      <td>7750.0</td>\n",
       "      <td>debt_consolidation</td>\n",
       "      <td>NaN</td>\n",
       "      <td>11015.499153</td>\n",
       "    </tr>\n",
       "    <tr>\n",
       "      <th>88739</th>\n",
       "      <td>50000.0</td>\n",
       "      <td>10000.0</td>\n",
       "      <td>credit_card</td>\n",
       "      <td>NaN</td>\n",
       "      <td>11911.812910</td>\n",
       "    </tr>\n",
       "    <tr>\n",
       "      <th>88740</th>\n",
       "      <td>60000.0</td>\n",
       "      <td>18000.0</td>\n",
       "      <td>debt_consolidation</td>\n",
       "      <td>NaN</td>\n",
       "      <td>13477.426459</td>\n",
       "    </tr>\n",
       "    <tr>\n",
       "      <th>88741</th>\n",
       "      <td>104500.0</td>\n",
       "      <td>22000.0</td>\n",
       "      <td>other</td>\n",
       "      <td>NaN</td>\n",
       "      <td>20444.406751</td>\n",
       "    </tr>\n",
       "    <tr>\n",
       "      <th>88742</th>\n",
       "      <td>28000.0</td>\n",
       "      <td>7550.0</td>\n",
       "      <td>debt_consolidation</td>\n",
       "      <td>NaN</td>\n",
       "      <td>8467.463102</td>\n",
       "    </tr>\n",
       "  </tbody>\n",
       "</table>\n",
       "</div>"
      ],
      "text/plain": [
       "       annual_inc  funded_amnt             purpose  Rolling_Mean  \\\n",
       "88737     44275.0       7750.0  debt_consolidation           NaN   \n",
       "88739     50000.0      10000.0         credit_card           NaN   \n",
       "88740     60000.0      18000.0  debt_consolidation           NaN   \n",
       "88741    104500.0      22000.0               other           NaN   \n",
       "88742     28000.0       7550.0  debt_consolidation           NaN   \n",
       "\n",
       "       Predicted Annual Income  \n",
       "88737             11015.499153  \n",
       "88739             11911.812910  \n",
       "88740             13477.426459  \n",
       "88741             20444.406751  \n",
       "88742              8467.463102  "
      ]
     },
     "execution_count": 62,
     "metadata": {},
     "output_type": "execute_result"
    }
   ],
   "source": [
    "joined_df = df3_keypar.join(predicted_annualinc, how = 'inner')\n",
    "joined_df.head()"
   ]
  },
  {
   "cell_type": "markdown",
   "metadata": {},
   "source": [
    "11- Plot your coefficients and previously calculated \"Smoothed Linear line\" to your graph in order to compare them both and provide insight with your linear regression line. "
   ]
  },
  {
   "cell_type": "code",
   "execution_count": 63,
   "metadata": {
    "collapsed": false
   },
   "outputs": [
    {
     "data": {
      "image/png": "[encoded data removed]",
      "text/plain": [
       "<matplotlib.figure.Figure at 0x1105dc9b0>"
      ]
     },
     "metadata": {},
     "output_type": "display_data"
    }
   ],
   "source": [
    "#Et voila! votre ligne predictive\n",
    "fig = plt.figure();\n",
    "ax = fig.add_subplot(111);\n",
    "ax.plot(joined_df['annual_inc'], joined_df['Rolling_Mean'], color = (0,0,0), linewidth = 4, alpha = .9, label = 'Smoothed Annual Income');\n",
    "ax.plot(joined_df['annual_inc'], joined_df['Predicted Annual Income'], color = (1,0,0), label = 'Predicted Annual Income');\n",
    "ax.set_title('Smooth Annual Income vs Linear Regression')\n",
    "ax.set_xlabel('Funded Amount')\n",
    "ax.set_ylabel('Annual Income')\n",
    "ax.legend(loc='upper left');"
   ]
  },
  {
   "cell_type": "markdown",
   "metadata": {
    "collapsed": true
   },
   "source": [
    "12- Remember to calculate your R Square."
   ]
  },
  {
   "cell_type": "code",
   "execution_count": 65,
   "metadata": {
    "collapsed": false
   },
   "outputs": [
    {
     "data": {
      "text/plain": [
       "0.21512531032775828"
      ]
     },
     "execution_count": 65,
     "metadata": {},
     "output_type": "execute_result"
    }
   ],
   "source": [
    "import sklearn\n",
    "\n",
    "r_squared = sklearn.metrics.r2_score(joined_df['funded_amnt'],joined_df['Predicted Annual Income'],multioutput='uniform_average')\n",
    "r_squared"
   ]
  }
 ],
 "metadata": {
  "kernelspec": {
   "display_name": "Python 3",
   "language": "python",
   "name": "python3"
  },
  "language_info": {
   "codemirror_mode": {
    "name": "ipython",
    "version": 3
   },
   "file_extension": ".py",
   "mimetype": "text/x-python",
   "name": "python",
   "nbconvert_exporter": "python",
   "pygments_lexer": "ipython3",
   "version": "3.6.0"
  }
 },
 "nbformat": 4,
 "nbformat_minor": 2
}
