{
 "cells": [
  {
   "cell_type": "markdown",
   "metadata": {},
   "source": [
    "1- Load the needed libraries"
   ]
  },
  {
   "cell_type": "code",
   "execution_count": 2,
   "metadata": {
    "collapsed": true
   },
   "outputs": [],
   "source": [
    "import pandas as pd\n",
    "import numpy as np\n",
    "import matplotlib.pyplot as plt  ## Plots and charts\n",
    "%matplotlib inline"
   ]
  },
  {
   "cell_type": "code",
   "execution_count": 3,
   "metadata": {
    "collapsed": false
   },
   "outputs": [
    {
     "data": {
      "text/plain": [
       "'0.19.2'"
      ]
     },
     "execution_count": 3,
     "metadata": {},
     "output_type": "execute_result"
    }
   ],
   "source": [
    "pd.__version__"
   ]
  },
  {
   "cell_type": "markdown",
   "metadata": {},
   "source": [
    "2- Load the file"
   ]
  },
  {
   "cell_type": "code",
   "execution_count": 4,
   "metadata": {
    "collapsed": false
   },
   "outputs": [
    {
     "data": {
      "text/html": [
       "<div>\n",
       "<table border=\"1\" class=\"dataframe\">\n",
       "  <thead>\n",
       "    <tr style=\"text-align: right;\">\n",
       "      <th></th>\n",
       "      <th>Park</th>\n",
       "      <th>Jan</th>\n",
       "      <th>Feb</th>\n",
       "      <th>Mar</th>\n",
       "      <th>Apr</th>\n",
       "      <th>May</th>\n",
       "      <th>Jun</th>\n",
       "      <th>Jul</th>\n",
       "      <th>Aug</th>\n",
       "      <th>Sep</th>\n",
       "      <th>Oct</th>\n",
       "      <th>Nov</th>\n",
       "      <th>Dec</th>\n",
       "      <th>YTD</th>\n",
       "    </tr>\n",
       "  </thead>\n",
       "  <tbody>\n",
       "    <tr>\n",
       "      <th>0</th>\n",
       "      <td>Anasazi Indian Village State Park Museum</td>\n",
       "      <td>77</td>\n",
       "      <td>119</td>\n",
       "      <td>940</td>\n",
       "      <td>2217</td>\n",
       "      <td>2357</td>\n",
       "      <td>2861</td>\n",
       "      <td>1 ,422</td>\n",
       "      <td>2 ,564</td>\n",
       "      <td>3 ,213</td>\n",
       "      <td>2 ,986</td>\n",
       "      <td>3 68</td>\n",
       "      <td>4 2</td>\n",
       "      <td>19166</td>\n",
       "    </tr>\n",
       "    <tr>\n",
       "      <th>1</th>\n",
       "      <td>Antelope Island State Park</td>\n",
       "      <td>5359</td>\n",
       "      <td>7154</td>\n",
       "      <td>24878</td>\n",
       "      <td>29634</td>\n",
       "      <td>40732</td>\n",
       "      <td>36780</td>\n",
       "      <td>34600</td>\n",
       "      <td>47511</td>\n",
       "      <td>28732</td>\n",
       "      <td>21155</td>\n",
       "      <td>23598</td>\n",
       "      <td>7106</td>\n",
       "      <td>307239</td>\n",
       "    </tr>\n",
       "    <tr>\n",
       "      <th>2</th>\n",
       "      <td>Bear Lake State Park</td>\n",
       "      <td>1661</td>\n",
       "      <td>1115</td>\n",
       "      <td>1098</td>\n",
       "      <td>2199</td>\n",
       "      <td>4837</td>\n",
       "      <td>25834</td>\n",
       "      <td>59826</td>\n",
       "      <td>64700</td>\n",
       "      <td>18647</td>\n",
       "      <td>1 ,914</td>\n",
       "      <td>5 62</td>\n",
       "      <td>2720</td>\n",
       "      <td>185113</td>\n",
       "    </tr>\n",
       "    <tr>\n",
       "      <th>3</th>\n",
       "      <td>Camp Floyd - Stage Coach Inn</td>\n",
       "      <td>257</td>\n",
       "      <td>300</td>\n",
       "      <td>742</td>\n",
       "      <td>2387</td>\n",
       "      <td>5007</td>\n",
       "      <td>1803</td>\n",
       "      <td>2 71</td>\n",
       "      <td>5 22</td>\n",
       "      <td>9 10</td>\n",
       "      <td>5 00</td>\n",
       "      <td>2 77</td>\n",
       "      <td>5 51</td>\n",
       "      <td>13527</td>\n",
       "    </tr>\n",
       "    <tr>\n",
       "      <th>4</th>\n",
       "      <td>Coral Pink Sand Dunes State Park</td>\n",
       "      <td>672</td>\n",
       "      <td>1086</td>\n",
       "      <td>6202</td>\n",
       "      <td>6010</td>\n",
       "      <td>8504</td>\n",
       "      <td>6851</td>\n",
       "      <td>5 ,167</td>\n",
       "      <td>8 ,356</td>\n",
       "      <td>6 ,744</td>\n",
       "      <td>12056</td>\n",
       "      <td>1772</td>\n",
       "      <td>1010</td>\n",
       "      <td>64429</td>\n",
       "    </tr>\n",
       "  </tbody>\n",
       "</table>\n",
       "</div>"
      ],
      "text/plain": [
       "                                       Park   Jan   Feb    Mar    Apr    May  \\\n",
       "0  Anasazi Indian Village State Park Museum    77   119    940   2217   2357   \n",
       "1                Antelope Island State Park  5359  7154  24878  29634  40732   \n",
       "2                      Bear Lake State Park  1661  1115   1098   2199   4837   \n",
       "3              Camp Floyd - Stage Coach Inn   257   300    742   2387   5007   \n",
       "4          Coral Pink Sand Dunes State Park   672  1086   6202   6010   8504   \n",
       "\n",
       "     Jun     Jul     Aug     Sep     Oct    Nov   Dec     YTD  \n",
       "0   2861  1 ,422  2 ,564  3 ,213  2 ,986   3 68   4 2   19166  \n",
       "1  36780   34600   47511   28732   21155  23598  7106  307239  \n",
       "2  25834   59826   64700   18647  1 ,914   5 62  2720  185113  \n",
       "3   1803    2 71    5 22    9 10    5 00   2 77  5 51   13527  \n",
       "4   6851  5 ,167  8 ,356  6 ,744   12056   1772  1010   64429  "
      ]
     },
     "execution_count": 4,
     "metadata": {},
     "output_type": "execute_result"
    }
   ],
   "source": [
    "df = pd.read_excel(\"Utahparksvisits2013.xlsx\")\n",
    "df.head()"
   ]
  },
  {
   "cell_type": "code",
   "execution_count": 5,
   "metadata": {
    "collapsed": false
   },
   "outputs": [
    {
     "data": {
      "text/plain": [
       "(41, 14)"
      ]
     },
     "execution_count": 5,
     "metadata": {},
     "output_type": "execute_result"
    }
   ],
   "source": [
    "df.shape "
   ]
  },
  {
   "cell_type": "code",
   "execution_count": 6,
   "metadata": {
    "collapsed": false,
    "scrolled": true
   },
   "outputs": [
    {
     "data": {
      "text/plain": [
       "Index(['Park', 'Jan', 'Feb', 'Mar', 'Apr', 'May', 'Jun', 'Jul', 'Aug', 'Sep',\n",
       "       'Oct', 'Nov', 'Dec', 'YTD'],\n",
       "      dtype='object')"
      ]
     },
     "execution_count": 6,
     "metadata": {},
     "output_type": "execute_result"
    }
   ],
   "source": [
    "df.columns"
   ]
  },
  {
   "cell_type": "code",
   "execution_count": 7,
   "metadata": {
    "collapsed": false
   },
   "outputs": [
    {
     "data": {
      "text/plain": [
       "0     Anasazi Indian Village State Park Museum\n",
       "1                   Antelope Island State Park\n",
       "2                         Bear Lake State Park\n",
       "3                 Camp Floyd - Stage Coach Inn\n",
       "4             Coral Pink Sand Dunes State Park\n",
       "5                  Dead Horse Point State Park\n",
       "6                        Deer Creek State Park\n",
       "7                       East Canyon State Park\n",
       "8         Edge Of The Cedars State Park Museum\n",
       "9        Escalante Petrified Forest State Park\n",
       "10                   Fremont Indian State Park\n",
       "11        Frontier Homestead State Park Museum\n",
       "12                    Goblin Valley State Park\n",
       "13                                  Goosenecks\n",
       "14                Great Salt Lake State Marina\n",
       "15                      Green River State Park\n",
       "16                           Gunlock Reservoir\n",
       "17                       Huntington State Park\n",
       "18                            Hyrum State Park\n",
       "19        Jordan River OHV Park Salt Lake City\n",
       "20                       Jordanelle State Park\n",
       "21                 Kodachrome Basin State Park\n",
       "22                         Millsite State Park\n",
       "23                                Monte Cristo\n",
       "24                      Otter Creek State Park\n",
       "25                         Palisade State Park\n",
       "26                             Piute Reservoir\n",
       "27                      Quail Creek State Park\n",
       "28                        Red Fleet State Park\n",
       "29                         Rockport State Park\n",
       "30                      Sand Hollow State Park\n",
       "31                         Scofield State Park\n",
       "32                      Snow Canyon State Park\n",
       "33                       Starvation State Park\n",
       "34                        Steinaker State Park\n",
       "35    Territorial Statehouse State Park Museum\n",
       "36         Utah Field House Of Natural History\n",
       "37                        Utah Lake State Park\n",
       "38                 Wasatch Mountain State Park\n",
       "39                      Willard Bay State Park\n",
       "40                             Yuba State Park\n",
       "Name: Park, dtype: object"
      ]
     },
     "execution_count": 7,
     "metadata": {},
     "output_type": "execute_result"
    }
   ],
   "source": [
    "df['Park'] "
   ]
  },
  {
   "cell_type": "markdown",
   "metadata": {},
   "source": [
    "3- What were the top 5 most visited parks for each month and the entire year 2013? Include a table and a graph. "
   ]
  },
  {
   "cell_type": "code",
   "execution_count": 8,
   "metadata": {
    "collapsed": false
   },
   "outputs": [
    {
     "data": {
      "text/html": [
       "<div>\n",
       "<table border=\"1\" class=\"dataframe\">\n",
       "  <thead>\n",
       "    <tr style=\"text-align: right;\">\n",
       "      <th></th>\n",
       "      <th>Park</th>\n",
       "      <th>Jan</th>\n",
       "      <th>Feb</th>\n",
       "      <th>Mar</th>\n",
       "      <th>Apr</th>\n",
       "      <th>May</th>\n",
       "      <th>Jun</th>\n",
       "      <th>Jul</th>\n",
       "      <th>Aug</th>\n",
       "      <th>Sep</th>\n",
       "      <th>Oct</th>\n",
       "      <th>Nov</th>\n",
       "      <th>Dec</th>\n",
       "      <th>YTD</th>\n",
       "      <th>Five most visited parks</th>\n",
       "    </tr>\n",
       "  </thead>\n",
       "  <tbody>\n",
       "    <tr>\n",
       "      <th>0</th>\n",
       "      <td>Anasazi Indian Village State Park Museum</td>\n",
       "      <td>77</td>\n",
       "      <td>119</td>\n",
       "      <td>940</td>\n",
       "      <td>2217</td>\n",
       "      <td>2357</td>\n",
       "      <td>2861</td>\n",
       "      <td>1 ,422</td>\n",
       "      <td>2 ,564</td>\n",
       "      <td>3 ,213</td>\n",
       "      <td>2 ,986</td>\n",
       "      <td>3 68</td>\n",
       "      <td>4 2</td>\n",
       "      <td>19166</td>\n",
       "      <td>19166</td>\n",
       "    </tr>\n",
       "    <tr>\n",
       "      <th>1</th>\n",
       "      <td>Antelope Island State Park</td>\n",
       "      <td>5359</td>\n",
       "      <td>7154</td>\n",
       "      <td>24878</td>\n",
       "      <td>29634</td>\n",
       "      <td>40732</td>\n",
       "      <td>36780</td>\n",
       "      <td>34600</td>\n",
       "      <td>47511</td>\n",
       "      <td>28732</td>\n",
       "      <td>21155</td>\n",
       "      <td>23598</td>\n",
       "      <td>7106</td>\n",
       "      <td>307239</td>\n",
       "      <td>307239</td>\n",
       "    </tr>\n",
       "    <tr>\n",
       "      <th>2</th>\n",
       "      <td>Bear Lake State Park</td>\n",
       "      <td>1661</td>\n",
       "      <td>1115</td>\n",
       "      <td>1098</td>\n",
       "      <td>2199</td>\n",
       "      <td>4837</td>\n",
       "      <td>25834</td>\n",
       "      <td>59826</td>\n",
       "      <td>64700</td>\n",
       "      <td>18647</td>\n",
       "      <td>1 ,914</td>\n",
       "      <td>5 62</td>\n",
       "      <td>2720</td>\n",
       "      <td>185113</td>\n",
       "      <td>185113</td>\n",
       "    </tr>\n",
       "    <tr>\n",
       "      <th>3</th>\n",
       "      <td>Camp Floyd - Stage Coach Inn</td>\n",
       "      <td>257</td>\n",
       "      <td>300</td>\n",
       "      <td>742</td>\n",
       "      <td>2387</td>\n",
       "      <td>5007</td>\n",
       "      <td>1803</td>\n",
       "      <td>2 71</td>\n",
       "      <td>5 22</td>\n",
       "      <td>9 10</td>\n",
       "      <td>5 00</td>\n",
       "      <td>2 77</td>\n",
       "      <td>5 51</td>\n",
       "      <td>13527</td>\n",
       "      <td>13527</td>\n",
       "    </tr>\n",
       "    <tr>\n",
       "      <th>4</th>\n",
       "      <td>Coral Pink Sand Dunes State Park</td>\n",
       "      <td>672</td>\n",
       "      <td>1086</td>\n",
       "      <td>6202</td>\n",
       "      <td>6010</td>\n",
       "      <td>8504</td>\n",
       "      <td>6851</td>\n",
       "      <td>5 ,167</td>\n",
       "      <td>8 ,356</td>\n",
       "      <td>6 ,744</td>\n",
       "      <td>12056</td>\n",
       "      <td>1772</td>\n",
       "      <td>1010</td>\n",
       "      <td>64429</td>\n",
       "      <td>64429</td>\n",
       "    </tr>\n",
       "  </tbody>\n",
       "</table>\n",
       "</div>"
      ],
      "text/plain": [
       "                                       Park   Jan   Feb    Mar    Apr    May  \\\n",
       "0  Anasazi Indian Village State Park Museum    77   119    940   2217   2357   \n",
       "1                Antelope Island State Park  5359  7154  24878  29634  40732   \n",
       "2                      Bear Lake State Park  1661  1115   1098   2199   4837   \n",
       "3              Camp Floyd - Stage Coach Inn   257   300    742   2387   5007   \n",
       "4          Coral Pink Sand Dunes State Park   672  1086   6202   6010   8504   \n",
       "\n",
       "     Jun     Jul     Aug     Sep     Oct    Nov   Dec     YTD  \\\n",
       "0   2861  1 ,422  2 ,564  3 ,213  2 ,986   3 68   4 2   19166   \n",
       "1  36780   34600   47511   28732   21155  23598  7106  307239   \n",
       "2  25834   59826   64700   18647  1 ,914   5 62  2720  185113   \n",
       "3   1803    2 71    5 22    9 10    5 00   2 77  5 51   13527   \n",
       "4   6851  5 ,167  8 ,356  6 ,744   12056   1772  1010   64429   \n",
       "\n",
       "   Five most visited parks  \n",
       "0                    19166  \n",
       "1                   307239  \n",
       "2                   185113  \n",
       "3                    13527  \n",
       "4                    64429  "
      ]
     },
     "execution_count": 8,
     "metadata": {},
     "output_type": "execute_result"
    }
   ],
   "source": [
    "#Sort by top 5, poss. using index rather than the name of the columns or rows\n",
    "df['Five most visited parks'] = df[['Jan', 'Feb', 'Mar', 'Apr', 'May', 'Jun', 'Jul', 'Aug', 'Sep',\n",
    "       'Oct', 'Nov', 'Dec', 'YTD']].max(axis = 1)\n",
    "\n",
    "df.sort_values('Five most visited parks', ascending=False)\n",
    "df.head(5)\n",
    "#Improvements: I would like to get rid of the extra column and I would like to relocate the last column to be first\n"
   ]
  },
  {
   "cell_type": "markdown",
   "metadata": {},
   "source": [
    "4- What was the average number of visits for each month and the  entire year 2013? Include a table and a graph."
   ]
  },
  {
   "cell_type": "code",
   "execution_count": 9,
   "metadata": {
    "collapsed": false
   },
   "outputs": [
    {
     "data": {
      "text/html": [
       "<div>\n",
       "<table border=\"1\" class=\"dataframe\">\n",
       "  <thead>\n",
       "    <tr style=\"text-align: right;\">\n",
       "      <th></th>\n",
       "      <th>Park</th>\n",
       "      <th>Jan</th>\n",
       "      <th>Feb</th>\n",
       "      <th>Mar</th>\n",
       "      <th>Apr</th>\n",
       "      <th>May</th>\n",
       "      <th>Jun</th>\n",
       "      <th>Jul</th>\n",
       "      <th>Aug</th>\n",
       "      <th>Sep</th>\n",
       "      <th>Oct</th>\n",
       "      <th>Nov</th>\n",
       "      <th>Dec</th>\n",
       "      <th>YTD</th>\n",
       "      <th>Five most visited parks</th>\n",
       "      <th>Average visits by park</th>\n",
       "    </tr>\n",
       "  </thead>\n",
       "  <tbody>\n",
       "    <tr>\n",
       "      <th>0</th>\n",
       "      <td>Anasazi Indian Village State Park Museum</td>\n",
       "      <td>77</td>\n",
       "      <td>119</td>\n",
       "      <td>940</td>\n",
       "      <td>2217</td>\n",
       "      <td>2357</td>\n",
       "      <td>2861</td>\n",
       "      <td>1 ,422</td>\n",
       "      <td>2 ,564</td>\n",
       "      <td>3 ,213</td>\n",
       "      <td>2 ,986</td>\n",
       "      <td>3 68</td>\n",
       "      <td>4 2</td>\n",
       "      <td>19166</td>\n",
       "      <td>19166</td>\n",
       "      <td>3962.428571</td>\n",
       "    </tr>\n",
       "    <tr>\n",
       "      <th>1</th>\n",
       "      <td>Antelope Island State Park</td>\n",
       "      <td>5359</td>\n",
       "      <td>7154</td>\n",
       "      <td>24878</td>\n",
       "      <td>29634</td>\n",
       "      <td>40732</td>\n",
       "      <td>36780</td>\n",
       "      <td>34600</td>\n",
       "      <td>47511</td>\n",
       "      <td>28732</td>\n",
       "      <td>21155</td>\n",
       "      <td>23598</td>\n",
       "      <td>7106</td>\n",
       "      <td>307239</td>\n",
       "      <td>307239</td>\n",
       "      <td>64539.428571</td>\n",
       "    </tr>\n",
       "    <tr>\n",
       "      <th>2</th>\n",
       "      <td>Bear Lake State Park</td>\n",
       "      <td>1661</td>\n",
       "      <td>1115</td>\n",
       "      <td>1098</td>\n",
       "      <td>2199</td>\n",
       "      <td>4837</td>\n",
       "      <td>25834</td>\n",
       "      <td>59826</td>\n",
       "      <td>64700</td>\n",
       "      <td>18647</td>\n",
       "      <td>1 ,914</td>\n",
       "      <td>5 62</td>\n",
       "      <td>2720</td>\n",
       "      <td>185113</td>\n",
       "      <td>185113</td>\n",
       "      <td>31693.857143</td>\n",
       "    </tr>\n",
       "    <tr>\n",
       "      <th>3</th>\n",
       "      <td>Camp Floyd - Stage Coach Inn</td>\n",
       "      <td>257</td>\n",
       "      <td>300</td>\n",
       "      <td>742</td>\n",
       "      <td>2387</td>\n",
       "      <td>5007</td>\n",
       "      <td>1803</td>\n",
       "      <td>2 71</td>\n",
       "      <td>5 22</td>\n",
       "      <td>9 10</td>\n",
       "      <td>5 00</td>\n",
       "      <td>2 77</td>\n",
       "      <td>5 51</td>\n",
       "      <td>13527</td>\n",
       "      <td>13527</td>\n",
       "      <td>3431.857143</td>\n",
       "    </tr>\n",
       "    <tr>\n",
       "      <th>4</th>\n",
       "      <td>Coral Pink Sand Dunes State Park</td>\n",
       "      <td>672</td>\n",
       "      <td>1086</td>\n",
       "      <td>6202</td>\n",
       "      <td>6010</td>\n",
       "      <td>8504</td>\n",
       "      <td>6851</td>\n",
       "      <td>5 ,167</td>\n",
       "      <td>8 ,356</td>\n",
       "      <td>6 ,744</td>\n",
       "      <td>12056</td>\n",
       "      <td>1772</td>\n",
       "      <td>1010</td>\n",
       "      <td>64429</td>\n",
       "      <td>64429</td>\n",
       "      <td>13393.428571</td>\n",
       "    </tr>\n",
       "  </tbody>\n",
       "</table>\n",
       "</div>"
      ],
      "text/plain": [
       "                                       Park   Jan   Feb    Mar    Apr    May  \\\n",
       "0  Anasazi Indian Village State Park Museum    77   119    940   2217   2357   \n",
       "1                Antelope Island State Park  5359  7154  24878  29634  40732   \n",
       "2                      Bear Lake State Park  1661  1115   1098   2199   4837   \n",
       "3              Camp Floyd - Stage Coach Inn   257   300    742   2387   5007   \n",
       "4          Coral Pink Sand Dunes State Park   672  1086   6202   6010   8504   \n",
       "\n",
       "     Jun     Jul     Aug     Sep     Oct    Nov   Dec     YTD  \\\n",
       "0   2861  1 ,422  2 ,564  3 ,213  2 ,986   3 68   4 2   19166   \n",
       "1  36780   34600   47511   28732   21155  23598  7106  307239   \n",
       "2  25834   59826   64700   18647  1 ,914   5 62  2720  185113   \n",
       "3   1803    2 71    5 22    9 10    5 00   2 77  5 51   13527   \n",
       "4   6851  5 ,167  8 ,356  6 ,744   12056   1772  1010   64429   \n",
       "\n",
       "   Five most visited parks  Average visits by park  \n",
       "0                    19166             3962.428571  \n",
       "1                   307239            64539.428571  \n",
       "2                   185113            31693.857143  \n",
       "3                    13527             3431.857143  \n",
       "4                    64429            13393.428571  "
      ]
     },
     "execution_count": 9,
     "metadata": {},
     "output_type": "execute_result"
    }
   ],
   "source": [
    "df['Average visits by park'] = df[['Jan', 'Feb', 'Mar', 'Apr', 'May', 'Jun', 'Jul', 'Aug', 'Sep',\n",
    "       'Oct', 'Nov', 'Dec', 'YTD']].mean(axis = 1)\n",
    "\n",
    "df.sort_values('Average visits by park', ascending=False)\n",
    "df.head()\n",
    "#drop extra columns"
   ]
  },
  {
   "cell_type": "markdown",
   "metadata": {},
   "source": [
    "5- What were the bottom 5 least visited parks for each month and the entire year 2013? Include a table and a graph."
   ]
  },
  {
   "cell_type": "code",
   "execution_count": 10,
   "metadata": {
    "collapsed": false
   },
   "outputs": [],
   "source": [
    "#Sort by bottom 5, poss. using index rather than the name of the columns or rows\n",
    "df['Five least visited parks'] = df[['Jan', 'Feb', 'Mar', 'Apr', 'May', 'Jun', 'Jul', 'Aug', 'Sep',\n",
    "       'Oct', 'Nov', 'Dec', 'YTD']].min (axis = 1)\n",
    "\n",
    "\n",
    "#get rid of the extra columns\n"
   ]
  },
  {
   "cell_type": "code",
   "execution_count": 11,
   "metadata": {
    "collapsed": false
   },
   "outputs": [
    {
     "ename": "ValueError",
     "evalue": "labels ['The five months with the most visitations'] not contained in axis",
     "output_type": "error",
     "traceback": [
      "\u001b[0;31m---------------------------------------------------------------------------\u001b[0m",
      "\u001b[0;31mValueError\u001b[0m                                Traceback (most recent call last)",
      "\u001b[0;32m<ipython-input-11-1c7484c513f8>\u001b[0m in \u001b[0;36m<module>\u001b[0;34m()\u001b[0m\n\u001b[1;32m      1\u001b[0m \u001b[0mdf\u001b[0m\u001b[0;34m.\u001b[0m\u001b[0msort_values\u001b[0m\u001b[0;34m(\u001b[0m\u001b[0;34m'Five least visited parks'\u001b[0m\u001b[0;34m,\u001b[0m \u001b[0mascending\u001b[0m\u001b[0;34m=\u001b[0m\u001b[0;32mFalse\u001b[0m\u001b[0;34m)\u001b[0m\u001b[0;34m\u001b[0m\u001b[0m\n\u001b[0;32m----> 2\u001b[0;31m \u001b[0mdf\u001b[0m\u001b[0;34m.\u001b[0m\u001b[0mdrop\u001b[0m\u001b[0;34m(\u001b[0m\u001b[0;34m'The five months with the most visitations'\u001b[0m\u001b[0;34m,\u001b[0m \u001b[0maxis\u001b[0m \u001b[0;34m=\u001b[0m \u001b[0;36m1\u001b[0m\u001b[0;34m)\u001b[0m\u001b[0;34m.\u001b[0m\u001b[0mhead\u001b[0m\u001b[0;34m(\u001b[0m\u001b[0;36m5\u001b[0m\u001b[0;34m)\u001b[0m\u001b[0;34m\u001b[0m\u001b[0m\n\u001b[0m",
      "\u001b[0;32m//anaconda/lib/python3.6/site-packages/pandas/core/generic.py\u001b[0m in \u001b[0;36mdrop\u001b[0;34m(self, labels, axis, level, inplace, errors)\u001b[0m\n\u001b[1;32m   1905\u001b[0m                 \u001b[0mnew_axis\u001b[0m \u001b[0;34m=\u001b[0m \u001b[0maxis\u001b[0m\u001b[0;34m.\u001b[0m\u001b[0mdrop\u001b[0m\u001b[0;34m(\u001b[0m\u001b[0mlabels\u001b[0m\u001b[0;34m,\u001b[0m \u001b[0mlevel\u001b[0m\u001b[0;34m=\u001b[0m\u001b[0mlevel\u001b[0m\u001b[0;34m,\u001b[0m \u001b[0merrors\u001b[0m\u001b[0;34m=\u001b[0m\u001b[0merrors\u001b[0m\u001b[0;34m)\u001b[0m\u001b[0;34m\u001b[0m\u001b[0m\n\u001b[1;32m   1906\u001b[0m             \u001b[0;32melse\u001b[0m\u001b[0;34m:\u001b[0m\u001b[0;34m\u001b[0m\u001b[0m\n\u001b[0;32m-> 1907\u001b[0;31m                 \u001b[0mnew_axis\u001b[0m \u001b[0;34m=\u001b[0m \u001b[0maxis\u001b[0m\u001b[0;34m.\u001b[0m\u001b[0mdrop\u001b[0m\u001b[0;34m(\u001b[0m\u001b[0mlabels\u001b[0m\u001b[0;34m,\u001b[0m \u001b[0merrors\u001b[0m\u001b[0;34m=\u001b[0m\u001b[0merrors\u001b[0m\u001b[0;34m)\u001b[0m\u001b[0;34m\u001b[0m\u001b[0m\n\u001b[0m\u001b[1;32m   1908\u001b[0m             \u001b[0mdropped\u001b[0m \u001b[0;34m=\u001b[0m \u001b[0mself\u001b[0m\u001b[0;34m.\u001b[0m\u001b[0mreindex\u001b[0m\u001b[0;34m(\u001b[0m\u001b[0;34m**\u001b[0m\u001b[0;34m{\u001b[0m\u001b[0maxis_name\u001b[0m\u001b[0;34m:\u001b[0m \u001b[0mnew_axis\u001b[0m\u001b[0;34m}\u001b[0m\u001b[0;34m)\u001b[0m\u001b[0;34m\u001b[0m\u001b[0m\n\u001b[1;32m   1909\u001b[0m             \u001b[0;32mtry\u001b[0m\u001b[0;34m:\u001b[0m\u001b[0;34m\u001b[0m\u001b[0m\n",
      "\u001b[0;32m//anaconda/lib/python3.6/site-packages/pandas/indexes/base.py\u001b[0m in \u001b[0;36mdrop\u001b[0;34m(self, labels, errors)\u001b[0m\n\u001b[1;32m   3260\u001b[0m             \u001b[0;32mif\u001b[0m \u001b[0merrors\u001b[0m \u001b[0;34m!=\u001b[0m \u001b[0;34m'ignore'\u001b[0m\u001b[0;34m:\u001b[0m\u001b[0;34m\u001b[0m\u001b[0m\n\u001b[1;32m   3261\u001b[0m                 raise ValueError('labels %s not contained in axis' %\n\u001b[0;32m-> 3262\u001b[0;31m                                  labels[mask])\n\u001b[0m\u001b[1;32m   3263\u001b[0m             \u001b[0mindexer\u001b[0m \u001b[0;34m=\u001b[0m \u001b[0mindexer\u001b[0m\u001b[0;34m[\u001b[0m\u001b[0;34m~\u001b[0m\u001b[0mmask\u001b[0m\u001b[0;34m]\u001b[0m\u001b[0;34m\u001b[0m\u001b[0m\n\u001b[1;32m   3264\u001b[0m         \u001b[0;32mreturn\u001b[0m \u001b[0mself\u001b[0m\u001b[0;34m.\u001b[0m\u001b[0mdelete\u001b[0m\u001b[0;34m(\u001b[0m\u001b[0mindexer\u001b[0m\u001b[0;34m)\u001b[0m\u001b[0;34m\u001b[0m\u001b[0m\n",
      "\u001b[0;31mValueError\u001b[0m: labels ['The five months with the most visitations'] not contained in axis"
     ]
    }
   ],
   "source": [
    "df.sort_values('Five least visited parks', ascending=False)\n",
    "df.drop('The five months with the most visitations', axis = 1).head(5)"
   ]
  },
  {
   "cell_type": "code",
   "execution_count": 12,
   "metadata": {
    "collapsed": false
   },
   "outputs": [
    {
     "data": {
      "text/plain": [
       "Jan                          2850.829268\n",
       "Feb                          3059.243902\n",
       "Mar                          5893.512195\n",
       "Apr                          8420.463415\n",
       "May                         13625.317073\n",
       "Jun                         18271.121951\n",
       "YTD                         99106.853659\n",
       "Five most visited parks     99106.853659\n",
       "Average visits by park      21603.905923\n",
       "Five least visited parks     1963.780488\n",
       "dtype: float64"
      ]
     },
     "execution_count": 12,
     "metadata": {},
     "output_type": "execute_result"
    }
   ],
   "source": [
    "#Try using the \"mean\" built in function in each column after :01\n",
    "df.mean()"
   ]
  },
  {
   "cell_type": "code",
   "execution_count": null,
   "metadata": {
    "collapsed": true
   },
   "outputs": [],
   "source": []
  },
  {
   "cell_type": "code",
   "execution_count": 13,
   "metadata": {
    "collapsed": false
   },
   "outputs": [
    {
     "data": {
      "text/plain": [
       "<matplotlib.axes._subplots.AxesSubplot at 0x10f74def0>"
      ]
     },
     "execution_count": 13,
     "metadata": {},
     "output_type": "execute_result"
    },
    {
     "data": {
      "image/png": "[encoded data removed]",
      "text/plain": [
       "<matplotlib.figure.Figure at 0x106c8d748>"
      ]
     },
     "metadata": {},
     "output_type": "display_data"
    }
   ],
   "source": [
    "df.plot(x='Park', y='Average visits by park', figsize=(29,9))\n",
    "#Figure out how to make it wider and maybe create another on reflecting changes by month"
   ]
  },
  {
   "cell_type": "markdown",
   "metadata": {},
   "source": [
    "6- Look into the variance of all parks visits by month and between parks. Include a table and a graph."
   ]
  },
  {
   "cell_type": "markdown",
   "metadata": {
    "collapsed": true
   },
   "source": [
    "Check on basics stats building functions, and look up variance. Definetely use graph after generating a table.\n",
    "#Solve the following problems: \n",
    "1- Drop the uneeded columns (All at the same time) \n",
    "2- Widen the graph \n",
    "3-Create a table with total monthly averages \n",
    "4- Try adding a bar graph\n"
   ]
  },
  {
   "cell_type": "markdown",
   "metadata": {},
   "source": [
    "8- Try creating a 3D bar graph comparing visits volume of each month per park during the year."
   ]
  },
  {
   "cell_type": "code",
   "execution_count": null,
   "metadata": {
    "collapsed": true
   },
   "outputs": [],
   "source": []
  }
 ],
 "metadata": {
  "kernelspec": {
   "display_name": "Python 3",
   "language": "python",
   "name": "python3"
  },
  "language_info": {
   "codemirror_mode": {
    "name": "ipython",
    "version": 3
   },
   "file_extension": ".py",
   "mimetype": "text/x-python",
   "name": "python",
   "nbconvert_exporter": "python",
   "pygments_lexer": "ipython3",
   "version": "3.6.0"
  }
 },
 "nbformat": 4,
 "nbformat_minor": 2
}
